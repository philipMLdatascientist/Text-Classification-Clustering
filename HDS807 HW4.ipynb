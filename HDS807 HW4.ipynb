{
 "cells": [
  {
   "cell_type": "markdown",
   "id": "9ed5a368",
   "metadata": {},
   "source": [
    "# Text Classification"
   ]
  },
  {
   "cell_type": "markdown",
   "id": "ca67fd2b",
   "metadata": {},
   "source": [
    "# Importing Libraries"
   ]
  },
  {
   "cell_type": "code",
   "execution_count": 1,
   "id": "7a6460f1",
   "metadata": {},
   "outputs": [],
   "source": [
    "import pandas as pd\n",
    "from sklearn.feature_extraction.text import CountVectorizer\n",
    "from nltk.tokenize import SpaceTokenizer\n",
    "from nltk.stem import WordNetLemmatizer\n",
    "from nltk.stem.porter import PorterStemmer\n",
    "from nltk.corpus import stopwords\n",
    "import re\n",
    "from sklearn.naive_bayes import MultinomialNB, ComplementNB\n",
    "from sklearn.metrics import accuracy_score, ConfusionMatrixDisplay\n",
    "from sklearn.model_selection import train_test_split, GridSearchCV"
   ]
  },
  {
   "cell_type": "markdown",
   "id": "d8f0bf91",
   "metadata": {},
   "source": [
    "# Creating Pandas Dataframe"
   ]
  },
  {
   "cell_type": "code",
   "execution_count": 2,
   "id": "2910011d",
   "metadata": {
    "scrolled": false
   },
   "outputs": [
    {
     "data": {
      "text/html": [
       "<div>\n",
       "<style scoped>\n",
       "    .dataframe tbody tr th:only-of-type {\n",
       "        vertical-align: middle;\n",
       "    }\n",
       "\n",
       "    .dataframe tbody tr th {\n",
       "        vertical-align: top;\n",
       "    }\n",
       "\n",
       "    .dataframe thead th {\n",
       "        text-align: right;\n",
       "    }\n",
       "</style>\n",
       "<table border=\"1\" class=\"dataframe\">\n",
       "  <thead>\n",
       "    <tr style=\"text-align: right;\">\n",
       "      <th></th>\n",
       "      <th>Unnamed: 0</th>\n",
       "      <th>description</th>\n",
       "      <th>medical_specialty</th>\n",
       "      <th>sample_name</th>\n",
       "      <th>transcription</th>\n",
       "      <th>keywords</th>\n",
       "    </tr>\n",
       "  </thead>\n",
       "  <tbody>\n",
       "    <tr>\n",
       "      <th>0</th>\n",
       "      <td>0</td>\n",
       "      <td>A 23-year-old white female presents with compl...</td>\n",
       "      <td>Allergy / Immunology</td>\n",
       "      <td>Allergic Rhinitis</td>\n",
       "      <td>SUBJECTIVE:,  This 23-year-old white female pr...</td>\n",
       "      <td>allergy / immunology, allergic rhinitis, aller...</td>\n",
       "    </tr>\n",
       "    <tr>\n",
       "      <th>1</th>\n",
       "      <td>1</td>\n",
       "      <td>Consult for laparoscopic gastric bypass.</td>\n",
       "      <td>Bariatrics</td>\n",
       "      <td>Laparoscopic Gastric Bypass Consult - 2</td>\n",
       "      <td>PAST MEDICAL HISTORY:, He has difficulty climb...</td>\n",
       "      <td>bariatrics, laparoscopic gastric bypass, weigh...</td>\n",
       "    </tr>\n",
       "    <tr>\n",
       "      <th>2</th>\n",
       "      <td>2</td>\n",
       "      <td>Consult for laparoscopic gastric bypass.</td>\n",
       "      <td>Bariatrics</td>\n",
       "      <td>Laparoscopic Gastric Bypass Consult - 1</td>\n",
       "      <td>HISTORY OF PRESENT ILLNESS: , I have seen ABC ...</td>\n",
       "      <td>bariatrics, laparoscopic gastric bypass, heart...</td>\n",
       "    </tr>\n",
       "    <tr>\n",
       "      <th>3</th>\n",
       "      <td>3</td>\n",
       "      <td>2-D M-Mode. Doppler.</td>\n",
       "      <td>Cardiovascular / Pulmonary</td>\n",
       "      <td>2-D Echocardiogram - 1</td>\n",
       "      <td>2-D M-MODE: , ,1.  Left atrial enlargement wit...</td>\n",
       "      <td>cardiovascular / pulmonary, 2-d m-mode, dopple...</td>\n",
       "    </tr>\n",
       "    <tr>\n",
       "      <th>4</th>\n",
       "      <td>4</td>\n",
       "      <td>2-D Echocardiogram</td>\n",
       "      <td>Cardiovascular / Pulmonary</td>\n",
       "      <td>2-D Echocardiogram - 2</td>\n",
       "      <td>1.  The left ventricular cavity size and wall ...</td>\n",
       "      <td>cardiovascular / pulmonary, 2-d, doppler, echo...</td>\n",
       "    </tr>\n",
       "    <tr>\n",
       "      <th>...</th>\n",
       "      <td>...</td>\n",
       "      <td>...</td>\n",
       "      <td>...</td>\n",
       "      <td>...</td>\n",
       "      <td>...</td>\n",
       "      <td>...</td>\n",
       "    </tr>\n",
       "    <tr>\n",
       "      <th>4994</th>\n",
       "      <td>4994</td>\n",
       "      <td>Patient having severe sinusitis about two to ...</td>\n",
       "      <td>Allergy / Immunology</td>\n",
       "      <td>Chronic Sinusitis</td>\n",
       "      <td>HISTORY:,  I had the pleasure of meeting and e...</td>\n",
       "      <td>NaN</td>\n",
       "    </tr>\n",
       "    <tr>\n",
       "      <th>4995</th>\n",
       "      <td>4995</td>\n",
       "      <td>This is a 14-month-old baby boy Caucasian who...</td>\n",
       "      <td>Allergy / Immunology</td>\n",
       "      <td>Kawasaki Disease - Discharge Summary</td>\n",
       "      <td>ADMITTING DIAGNOSIS: , Kawasaki disease.,DISCH...</td>\n",
       "      <td>allergy / immunology, mucous membranes, conjun...</td>\n",
       "    </tr>\n",
       "    <tr>\n",
       "      <th>4996</th>\n",
       "      <td>4996</td>\n",
       "      <td>A female for a complete physical and follow up...</td>\n",
       "      <td>Allergy / Immunology</td>\n",
       "      <td>Followup on Asthma</td>\n",
       "      <td>SUBJECTIVE: , This is a 42-year-old white fema...</td>\n",
       "      <td>NaN</td>\n",
       "    </tr>\n",
       "    <tr>\n",
       "      <th>4997</th>\n",
       "      <td>4997</td>\n",
       "      <td>Mother states he has been wheezing and coughing.</td>\n",
       "      <td>Allergy / Immunology</td>\n",
       "      <td>Asthma in a 5-year-old</td>\n",
       "      <td>CHIEF COMPLAINT: , This 5-year-old male presen...</td>\n",
       "      <td>NaN</td>\n",
       "    </tr>\n",
       "    <tr>\n",
       "      <th>4998</th>\n",
       "      <td>4998</td>\n",
       "      <td>Acute allergic reaction, etiology uncertain, ...</td>\n",
       "      <td>Allergy / Immunology</td>\n",
       "      <td>Allergy Evaluation Consult</td>\n",
       "      <td>HISTORY: , A 34-year-old male presents today s...</td>\n",
       "      <td>NaN</td>\n",
       "    </tr>\n",
       "  </tbody>\n",
       "</table>\n",
       "<p>4999 rows × 6 columns</p>\n",
       "</div>"
      ],
      "text/plain": [
       "      Unnamed: 0                                        description  \\\n",
       "0              0  A 23-year-old white female presents with compl...   \n",
       "1              1           Consult for laparoscopic gastric bypass.   \n",
       "2              2           Consult for laparoscopic gastric bypass.   \n",
       "3              3                             2-D M-Mode. Doppler.     \n",
       "4              4                                 2-D Echocardiogram   \n",
       "...          ...                                                ...   \n",
       "4994        4994   Patient having severe sinusitis about two to ...   \n",
       "4995        4995   This is a 14-month-old baby boy Caucasian who...   \n",
       "4996        4996  A female for a complete physical and follow up...   \n",
       "4997        4997   Mother states he has been wheezing and coughing.   \n",
       "4998        4998   Acute allergic reaction, etiology uncertain, ...   \n",
       "\n",
       "               medical_specialty                               sample_name  \\\n",
       "0           Allergy / Immunology                        Allergic Rhinitis    \n",
       "1                     Bariatrics  Laparoscopic Gastric Bypass Consult - 2    \n",
       "2                     Bariatrics  Laparoscopic Gastric Bypass Consult - 1    \n",
       "3     Cardiovascular / Pulmonary                   2-D Echocardiogram - 1    \n",
       "4     Cardiovascular / Pulmonary                   2-D Echocardiogram - 2    \n",
       "...                          ...                                       ...   \n",
       "4994        Allergy / Immunology                        Chronic Sinusitis    \n",
       "4995        Allergy / Immunology     Kawasaki Disease - Discharge Summary    \n",
       "4996        Allergy / Immunology                       Followup on Asthma    \n",
       "4997        Allergy / Immunology                   Asthma in a 5-year-old    \n",
       "4998        Allergy / Immunology               Allergy Evaluation Consult    \n",
       "\n",
       "                                          transcription  \\\n",
       "0     SUBJECTIVE:,  This 23-year-old white female pr...   \n",
       "1     PAST MEDICAL HISTORY:, He has difficulty climb...   \n",
       "2     HISTORY OF PRESENT ILLNESS: , I have seen ABC ...   \n",
       "3     2-D M-MODE: , ,1.  Left atrial enlargement wit...   \n",
       "4     1.  The left ventricular cavity size and wall ...   \n",
       "...                                                 ...   \n",
       "4994  HISTORY:,  I had the pleasure of meeting and e...   \n",
       "4995  ADMITTING DIAGNOSIS: , Kawasaki disease.,DISCH...   \n",
       "4996  SUBJECTIVE: , This is a 42-year-old white fema...   \n",
       "4997  CHIEF COMPLAINT: , This 5-year-old male presen...   \n",
       "4998  HISTORY: , A 34-year-old male presents today s...   \n",
       "\n",
       "                                               keywords  \n",
       "0     allergy / immunology, allergic rhinitis, aller...  \n",
       "1     bariatrics, laparoscopic gastric bypass, weigh...  \n",
       "2     bariatrics, laparoscopic gastric bypass, heart...  \n",
       "3     cardiovascular / pulmonary, 2-d m-mode, dopple...  \n",
       "4     cardiovascular / pulmonary, 2-d, doppler, echo...  \n",
       "...                                                 ...  \n",
       "4994                                                NaN  \n",
       "4995  allergy / immunology, mucous membranes, conjun...  \n",
       "4996                                                NaN  \n",
       "4997                                                NaN  \n",
       "4998                                                NaN  \n",
       "\n",
       "[4999 rows x 6 columns]"
      ]
     },
     "execution_count": 2,
     "metadata": {},
     "output_type": "execute_result"
    }
   ],
   "source": [
    "data = pd.read_csv(\"~/Downloads/mtsamples.csv\", skipinitialspace = True)\n",
    "data"
   ]
  },
  {
   "cell_type": "markdown",
   "id": "69e8f69e",
   "metadata": {},
   "source": [
    "# High-Level Review of Data Structure"
   ]
  },
  {
   "cell_type": "code",
   "execution_count": 3,
   "id": "d579f80d",
   "metadata": {},
   "outputs": [
    {
     "data": {
      "text/plain": [
       "(4999, 6)"
      ]
     },
     "metadata": {},
     "output_type": "display_data"
    },
    {
     "data": {
      "text/html": [
       "<div>\n",
       "<style scoped>\n",
       "    .dataframe tbody tr th:only-of-type {\n",
       "        vertical-align: middle;\n",
       "    }\n",
       "\n",
       "    .dataframe tbody tr th {\n",
       "        vertical-align: top;\n",
       "    }\n",
       "\n",
       "    .dataframe thead th {\n",
       "        text-align: right;\n",
       "    }\n",
       "</style>\n",
       "<table border=\"1\" class=\"dataframe\">\n",
       "  <thead>\n",
       "    <tr style=\"text-align: right;\">\n",
       "      <th></th>\n",
       "      <th>Unnamed: 0</th>\n",
       "      <th>description</th>\n",
       "      <th>medical_specialty</th>\n",
       "      <th>sample_name</th>\n",
       "      <th>transcription</th>\n",
       "      <th>keywords</th>\n",
       "    </tr>\n",
       "  </thead>\n",
       "  <tbody>\n",
       "    <tr>\n",
       "      <th>0</th>\n",
       "      <td>0</td>\n",
       "      <td>A 23-year-old white female presents with compl...</td>\n",
       "      <td>Allergy / Immunology</td>\n",
       "      <td>Allergic Rhinitis</td>\n",
       "      <td>SUBJECTIVE:,  This 23-year-old white female pr...</td>\n",
       "      <td>allergy / immunology, allergic rhinitis, aller...</td>\n",
       "    </tr>\n",
       "    <tr>\n",
       "      <th>1</th>\n",
       "      <td>1</td>\n",
       "      <td>Consult for laparoscopic gastric bypass.</td>\n",
       "      <td>Bariatrics</td>\n",
       "      <td>Laparoscopic Gastric Bypass Consult - 2</td>\n",
       "      <td>PAST MEDICAL HISTORY:, He has difficulty climb...</td>\n",
       "      <td>bariatrics, laparoscopic gastric bypass, weigh...</td>\n",
       "    </tr>\n",
       "    <tr>\n",
       "      <th>2</th>\n",
       "      <td>2</td>\n",
       "      <td>Consult for laparoscopic gastric bypass.</td>\n",
       "      <td>Bariatrics</td>\n",
       "      <td>Laparoscopic Gastric Bypass Consult - 1</td>\n",
       "      <td>HISTORY OF PRESENT ILLNESS: , I have seen ABC ...</td>\n",
       "      <td>bariatrics, laparoscopic gastric bypass, heart...</td>\n",
       "    </tr>\n",
       "    <tr>\n",
       "      <th>3</th>\n",
       "      <td>3</td>\n",
       "      <td>2-D M-Mode. Doppler.</td>\n",
       "      <td>Cardiovascular / Pulmonary</td>\n",
       "      <td>2-D Echocardiogram - 1</td>\n",
       "      <td>2-D M-MODE: , ,1.  Left atrial enlargement wit...</td>\n",
       "      <td>cardiovascular / pulmonary, 2-d m-mode, dopple...</td>\n",
       "    </tr>\n",
       "    <tr>\n",
       "      <th>4</th>\n",
       "      <td>4</td>\n",
       "      <td>2-D Echocardiogram</td>\n",
       "      <td>Cardiovascular / Pulmonary</td>\n",
       "      <td>2-D Echocardiogram - 2</td>\n",
       "      <td>1.  The left ventricular cavity size and wall ...</td>\n",
       "      <td>cardiovascular / pulmonary, 2-d, doppler, echo...</td>\n",
       "    </tr>\n",
       "  </tbody>\n",
       "</table>\n",
       "</div>"
      ],
      "text/plain": [
       "   Unnamed: 0                                        description  \\\n",
       "0           0  A 23-year-old white female presents with compl...   \n",
       "1           1           Consult for laparoscopic gastric bypass.   \n",
       "2           2           Consult for laparoscopic gastric bypass.   \n",
       "3           3                             2-D M-Mode. Doppler.     \n",
       "4           4                                 2-D Echocardiogram   \n",
       "\n",
       "            medical_specialty                               sample_name  \\\n",
       "0        Allergy / Immunology                        Allergic Rhinitis    \n",
       "1                  Bariatrics  Laparoscopic Gastric Bypass Consult - 2    \n",
       "2                  Bariatrics  Laparoscopic Gastric Bypass Consult - 1    \n",
       "3  Cardiovascular / Pulmonary                   2-D Echocardiogram - 1    \n",
       "4  Cardiovascular / Pulmonary                   2-D Echocardiogram - 2    \n",
       "\n",
       "                                       transcription  \\\n",
       "0  SUBJECTIVE:,  This 23-year-old white female pr...   \n",
       "1  PAST MEDICAL HISTORY:, He has difficulty climb...   \n",
       "2  HISTORY OF PRESENT ILLNESS: , I have seen ABC ...   \n",
       "3  2-D M-MODE: , ,1.  Left atrial enlargement wit...   \n",
       "4  1.  The left ventricular cavity size and wall ...   \n",
       "\n",
       "                                            keywords  \n",
       "0  allergy / immunology, allergic rhinitis, aller...  \n",
       "1  bariatrics, laparoscopic gastric bypass, weigh...  \n",
       "2  bariatrics, laparoscopic gastric bypass, heart...  \n",
       "3  cardiovascular / pulmonary, 2-d m-mode, dopple...  \n",
       "4  cardiovascular / pulmonary, 2-d, doppler, echo...  "
      ]
     },
     "execution_count": 3,
     "metadata": {},
     "output_type": "execute_result"
    }
   ],
   "source": [
    "display(data.shape)\n",
    "data.head()"
   ]
  },
  {
   "cell_type": "code",
   "execution_count": 4,
   "id": "3d4a9cf0",
   "metadata": {
    "scrolled": true
   },
   "outputs": [
    {
     "name": "stdout",
     "output_type": "stream",
     "text": [
      "<class 'pandas.core.frame.DataFrame'>\n",
      "RangeIndex: 4999 entries, 0 to 4998\n",
      "Data columns (total 6 columns):\n",
      " #   Column             Non-Null Count  Dtype \n",
      "---  ------             --------------  ----- \n",
      " 0   Unnamed: 0         4999 non-null   int64 \n",
      " 1   description        4993 non-null   object\n",
      " 2   medical_specialty  4999 non-null   object\n",
      " 3   sample_name        4999 non-null   object\n",
      " 4   transcription      4966 non-null   object\n",
      " 5   keywords           3850 non-null   object\n",
      "dtypes: int64(1), object(5)\n",
      "memory usage: 234.5+ KB\n"
     ]
    }
   ],
   "source": [
    "data.info()"
   ]
  },
  {
   "cell_type": "code",
   "execution_count": 5,
   "id": "626e2333",
   "metadata": {},
   "outputs": [
    {
     "data": {
      "text/html": [
       "<div>\n",
       "<style scoped>\n",
       "    .dataframe tbody tr th:only-of-type {\n",
       "        vertical-align: middle;\n",
       "    }\n",
       "\n",
       "    .dataframe tbody tr th {\n",
       "        vertical-align: top;\n",
       "    }\n",
       "\n",
       "    .dataframe thead th {\n",
       "        text-align: right;\n",
       "    }\n",
       "</style>\n",
       "<table border=\"1\" class=\"dataframe\">\n",
       "  <thead>\n",
       "    <tr style=\"text-align: right;\">\n",
       "      <th></th>\n",
       "      <th>Unnamed: 0</th>\n",
       "    </tr>\n",
       "  </thead>\n",
       "  <tbody>\n",
       "    <tr>\n",
       "      <th>count</th>\n",
       "      <td>4999.000000</td>\n",
       "    </tr>\n",
       "    <tr>\n",
       "      <th>mean</th>\n",
       "      <td>2499.000000</td>\n",
       "    </tr>\n",
       "    <tr>\n",
       "      <th>std</th>\n",
       "      <td>1443.231328</td>\n",
       "    </tr>\n",
       "    <tr>\n",
       "      <th>min</th>\n",
       "      <td>0.000000</td>\n",
       "    </tr>\n",
       "    <tr>\n",
       "      <th>25%</th>\n",
       "      <td>1249.500000</td>\n",
       "    </tr>\n",
       "    <tr>\n",
       "      <th>50%</th>\n",
       "      <td>2499.000000</td>\n",
       "    </tr>\n",
       "    <tr>\n",
       "      <th>75%</th>\n",
       "      <td>3748.500000</td>\n",
       "    </tr>\n",
       "    <tr>\n",
       "      <th>max</th>\n",
       "      <td>4998.000000</td>\n",
       "    </tr>\n",
       "  </tbody>\n",
       "</table>\n",
       "</div>"
      ],
      "text/plain": [
       "        Unnamed: 0\n",
       "count  4999.000000\n",
       "mean   2499.000000\n",
       "std    1443.231328\n",
       "min       0.000000\n",
       "25%    1249.500000\n",
       "50%    2499.000000\n",
       "75%    3748.500000\n",
       "max    4998.000000"
      ]
     },
     "execution_count": 5,
     "metadata": {},
     "output_type": "execute_result"
    }
   ],
   "source": [
    "data.describe()"
   ]
  },
  {
   "cell_type": "code",
   "execution_count": 6,
   "id": "fe50a7f0",
   "metadata": {
    "scrolled": true
   },
   "outputs": [
    {
     "data": {
      "text/html": [
       "<div>\n",
       "<style scoped>\n",
       "    .dataframe tbody tr th:only-of-type {\n",
       "        vertical-align: middle;\n",
       "    }\n",
       "\n",
       "    .dataframe tbody tr th {\n",
       "        vertical-align: top;\n",
       "    }\n",
       "\n",
       "    .dataframe thead th {\n",
       "        text-align: right;\n",
       "    }\n",
       "</style>\n",
       "<table border=\"1\" class=\"dataframe\">\n",
       "  <thead>\n",
       "    <tr style=\"text-align: right;\">\n",
       "      <th></th>\n",
       "      <th>description</th>\n",
       "      <th>medical_specialty</th>\n",
       "      <th>sample_name</th>\n",
       "      <th>transcription</th>\n",
       "      <th>keywords</th>\n",
       "    </tr>\n",
       "  </thead>\n",
       "  <tbody>\n",
       "    <tr>\n",
       "      <th>count</th>\n",
       "      <td>4993</td>\n",
       "      <td>4999</td>\n",
       "      <td>4999</td>\n",
       "      <td>4966</td>\n",
       "      <td>3850</td>\n",
       "    </tr>\n",
       "    <tr>\n",
       "      <th>unique</th>\n",
       "      <td>2347</td>\n",
       "      <td>40</td>\n",
       "      <td>2377</td>\n",
       "      <td>2357</td>\n",
       "      <td>3848</td>\n",
       "    </tr>\n",
       "    <tr>\n",
       "      <th>top</th>\n",
       "      <td>An example/template for a routine normal male ...</td>\n",
       "      <td>Surgery</td>\n",
       "      <td>Lumbar Discogram</td>\n",
       "      <td>PREOPERATIVE DIAGNOSIS: , Low back pain.,POSTO...</td>\n",
       "      <td>gastroenterology</td>\n",
       "    </tr>\n",
       "    <tr>\n",
       "      <th>freq</th>\n",
       "      <td>12</td>\n",
       "      <td>1103</td>\n",
       "      <td>5</td>\n",
       "      <td>5</td>\n",
       "      <td>2</td>\n",
       "    </tr>\n",
       "  </tbody>\n",
       "</table>\n",
       "</div>"
      ],
      "text/plain": [
       "                                              description medical_specialty  \\\n",
       "count                                                4993              4999   \n",
       "unique                                               2347                40   \n",
       "top     An example/template for a routine normal male ...           Surgery   \n",
       "freq                                                   12              1103   \n",
       "\n",
       "              sample_name                                      transcription  \\\n",
       "count                4999                                               4966   \n",
       "unique               2377                                               2357   \n",
       "top     Lumbar Discogram   PREOPERATIVE DIAGNOSIS: , Low back pain.,POSTO...   \n",
       "freq                    5                                                  5   \n",
       "\n",
       "                keywords  \n",
       "count               3850  \n",
       "unique              3848  \n",
       "top     gastroenterology  \n",
       "freq                   2  "
      ]
     },
     "execution_count": 6,
     "metadata": {},
     "output_type": "execute_result"
    }
   ],
   "source": [
    "data.describe(include = object)"
   ]
  },
  {
   "cell_type": "code",
   "execution_count": 7,
   "id": "eb8274cf",
   "metadata": {
    "scrolled": true
   },
   "outputs": [
    {
     "data": {
      "text/plain": [
       "Unnamed: 0              0\n",
       "description             6\n",
       "medical_specialty       0\n",
       "sample_name             0\n",
       "transcription          33\n",
       "keywords             1149\n",
       "dtype: int64"
      ]
     },
     "execution_count": 7,
     "metadata": {},
     "output_type": "execute_result"
    }
   ],
   "source": [
    "data.isnull().sum()"
   ]
  },
  {
   "cell_type": "code",
   "execution_count": 8,
   "id": "f92517c7",
   "metadata": {
    "scrolled": true
   },
   "outputs": [
    {
     "data": {
      "text/plain": [
       "0"
      ]
     },
     "execution_count": 8,
     "metadata": {},
     "output_type": "execute_result"
    }
   ],
   "source": [
    "data.duplicated().sum()"
   ]
  },
  {
   "cell_type": "code",
   "execution_count": 9,
   "id": "7e0c866b",
   "metadata": {
    "scrolled": false
   },
   "outputs": [
    {
     "data": {
      "text/plain": [
       "Surgery                          0.220644\n",
       "Consult - History and Phy.       0.103221\n",
       "Cardiovascular / Pulmonary       0.074415\n",
       "Orthopedic                       0.071014\n",
       "Radiology                        0.054611\n",
       "General Medicine                 0.051810\n",
       "Gastroenterology                 0.046009\n",
       "Neurology                        0.044609\n",
       "SOAP / Chart / Progress Notes    0.033207\n",
       "Obstetrics / Gynecology          0.032006\n",
       "Urology                          0.031606\n",
       "Discharge Summary                0.021604\n",
       "ENT - Otolaryngology             0.019604\n",
       "Neurosurgery                     0.018804\n",
       "Hematology - Oncology            0.018004\n",
       "Ophthalmology                    0.016603\n",
       "Nephrology                       0.016203\n",
       "Emergency Room Reports           0.015003\n",
       "Pediatrics - Neonatal            0.014003\n",
       "Pain Management                  0.012402\n",
       "Psychiatry / Psychology          0.010602\n",
       "Office Notes                     0.010202\n",
       "Podiatry                         0.009402\n",
       "Dermatology                      0.005801\n",
       "Dentistry                        0.005401\n",
       "Cosmetic / Plastic Surgery       0.005401\n",
       "Letters                          0.004601\n",
       "Physical Medicine - Rehab        0.004201\n",
       "Sleep Medicine                   0.004001\n",
       "Endocrinology                    0.003801\n",
       "Bariatrics                       0.003601\n",
       "IME-QME-Work Comp etc.           0.003201\n",
       "Chiropractic                     0.002801\n",
       "Diets and Nutritions             0.002000\n",
       "Rheumatology                     0.002000\n",
       "Speech - Language                0.001800\n",
       "Lab Medicine - Pathology         0.001600\n",
       "Autopsy                          0.001600\n",
       "Allergy / Immunology             0.001400\n",
       "Hospice - Palliative Care        0.001200\n",
       "Name: medical_specialty, dtype: float64"
      ]
     },
     "execution_count": 9,
     "metadata": {},
     "output_type": "execute_result"
    }
   ],
   "source": [
    "data[\"medical_specialty\"].value_counts()/data.shape[0]"
   ]
  },
  {
   "cell_type": "markdown",
   "id": "3ccd07f3",
   "metadata": {},
   "source": [
    "# Data Preparation"
   ]
  },
  {
   "cell_type": "markdown",
   "id": "75ecc1b9",
   "metadata": {},
   "source": [
    "- I now have a general impression of the data and developed strategies for feature engineering.\n",
    "- I have reviewed all of the feature names and I concur with their data types\n",
    "- I have 4999 samples and 6 features.\n",
    "- Of the 6 features, 1 is numeric and the remaining 5 are categorical.\n",
    "- There are 33 missing values in the transcription feature and 1068 missing values in the keyword section. I will recheck these missing values after I subset the data to Cardiovascular/Pulmonary, Neurology, and Orthopedic and remove the missing entries.\n",
    "- There are no duplicate entries\n",
    "- The unnamed:0, sample name, description, and keywords features are redundant features and will be removed."
   ]
  },
  {
   "cell_type": "code",
   "execution_count": 10,
   "id": "3c669e19",
   "metadata": {
    "scrolled": true
   },
   "outputs": [
    {
     "name": "stdout",
     "output_type": "stream",
     "text": [
      "<class 'pandas.core.frame.DataFrame'>\n",
      "Int64Index: 4966 entries, 0 to 4998\n",
      "Data columns (total 6 columns):\n",
      " #   Column             Non-Null Count  Dtype \n",
      "---  ------             --------------  ----- \n",
      " 0   Unnamed: 0         4966 non-null   int64 \n",
      " 1   description        4960 non-null   object\n",
      " 2   medical_specialty  4966 non-null   object\n",
      " 3   sample_name        4966 non-null   object\n",
      " 4   transcription      4966 non-null   object\n",
      " 5   keywords           3817 non-null   object\n",
      "dtypes: int64(1), object(5)\n",
      "memory usage: 271.6+ KB\n"
     ]
    }
   ],
   "source": [
    "data = data[data['transcription'].notna()]\n",
    "data.info()"
   ]
  },
  {
   "cell_type": "code",
   "execution_count": 11,
   "id": "ab2a17ac",
   "metadata": {
    "scrolled": true
   },
   "outputs": [
    {
     "data": {
      "text/html": [
       "<div>\n",
       "<style scoped>\n",
       "    .dataframe tbody tr th:only-of-type {\n",
       "        vertical-align: middle;\n",
       "    }\n",
       "\n",
       "    .dataframe tbody tr th {\n",
       "        vertical-align: top;\n",
       "    }\n",
       "\n",
       "    .dataframe thead th {\n",
       "        text-align: right;\n",
       "    }\n",
       "</style>\n",
       "<table border=\"1\" class=\"dataframe\">\n",
       "  <thead>\n",
       "    <tr style=\"text-align: right;\">\n",
       "      <th></th>\n",
       "      <th>medical_specialty</th>\n",
       "      <th>transcription</th>\n",
       "    </tr>\n",
       "  </thead>\n",
       "  <tbody>\n",
       "    <tr>\n",
       "      <th>0</th>\n",
       "      <td>Allergy / Immunology</td>\n",
       "      <td>SUBJECTIVE:,  This 23-year-old white female pr...</td>\n",
       "    </tr>\n",
       "    <tr>\n",
       "      <th>1</th>\n",
       "      <td>Bariatrics</td>\n",
       "      <td>PAST MEDICAL HISTORY:, He has difficulty climb...</td>\n",
       "    </tr>\n",
       "    <tr>\n",
       "      <th>2</th>\n",
       "      <td>Bariatrics</td>\n",
       "      <td>HISTORY OF PRESENT ILLNESS: , I have seen ABC ...</td>\n",
       "    </tr>\n",
       "    <tr>\n",
       "      <th>3</th>\n",
       "      <td>Cardiovascular / Pulmonary</td>\n",
       "      <td>2-D M-MODE: , ,1.  Left atrial enlargement wit...</td>\n",
       "    </tr>\n",
       "    <tr>\n",
       "      <th>4</th>\n",
       "      <td>Cardiovascular / Pulmonary</td>\n",
       "      <td>1.  The left ventricular cavity size and wall ...</td>\n",
       "    </tr>\n",
       "  </tbody>\n",
       "</table>\n",
       "</div>"
      ],
      "text/plain": [
       "            medical_specialty  \\\n",
       "0        Allergy / Immunology   \n",
       "1                  Bariatrics   \n",
       "2                  Bariatrics   \n",
       "3  Cardiovascular / Pulmonary   \n",
       "4  Cardiovascular / Pulmonary   \n",
       "\n",
       "                                       transcription  \n",
       "0  SUBJECTIVE:,  This 23-year-old white female pr...  \n",
       "1  PAST MEDICAL HISTORY:, He has difficulty climb...  \n",
       "2  HISTORY OF PRESENT ILLNESS: , I have seen ABC ...  \n",
       "3  2-D M-MODE: , ,1.  Left atrial enlargement wit...  \n",
       "4  1.  The left ventricular cavity size and wall ...  "
      ]
     },
     "execution_count": 11,
     "metadata": {},
     "output_type": "execute_result"
    }
   ],
   "source": [
    "data = data.drop(['Unnamed: 0', 'description', 'sample_name', 'keywords'], axis = 1)\n",
    "data.head()"
   ]
  },
  {
   "cell_type": "code",
   "execution_count": 12,
   "id": "29486b36",
   "metadata": {},
   "outputs": [
    {
     "name": "stdout",
     "output_type": "stream",
     "text": [
      "Index(['medical_specialty', 'transcription'], dtype='object')\n"
     ]
    }
   ],
   "source": [
    "print(data.columns)"
   ]
  },
  {
   "cell_type": "code",
   "execution_count": 13,
   "id": "6c32bf24",
   "metadata": {
    "scrolled": false
   },
   "outputs": [
    {
     "data": {
      "text/html": [
       "<div>\n",
       "<style scoped>\n",
       "    .dataframe tbody tr th:only-of-type {\n",
       "        vertical-align: middle;\n",
       "    }\n",
       "\n",
       "    .dataframe tbody tr th {\n",
       "        vertical-align: top;\n",
       "    }\n",
       "\n",
       "    .dataframe thead th {\n",
       "        text-align: right;\n",
       "    }\n",
       "</style>\n",
       "<table border=\"1\" class=\"dataframe\">\n",
       "  <thead>\n",
       "    <tr style=\"text-align: right;\">\n",
       "      <th></th>\n",
       "      <th>medical_specialty</th>\n",
       "      <th>transcription</th>\n",
       "    </tr>\n",
       "  </thead>\n",
       "  <tbody>\n",
       "    <tr>\n",
       "      <th>3</th>\n",
       "      <td>Cardiovascular / Pulmonary</td>\n",
       "      <td>2-D M-MODE: , ,1.  Left atrial enlargement wit...</td>\n",
       "    </tr>\n",
       "    <tr>\n",
       "      <th>4</th>\n",
       "      <td>Cardiovascular / Pulmonary</td>\n",
       "      <td>1.  The left ventricular cavity size and wall ...</td>\n",
       "    </tr>\n",
       "    <tr>\n",
       "      <th>7</th>\n",
       "      <td>Cardiovascular / Pulmonary</td>\n",
       "      <td>2-D ECHOCARDIOGRAM,Multiple views of the heart...</td>\n",
       "    </tr>\n",
       "    <tr>\n",
       "      <th>9</th>\n",
       "      <td>Cardiovascular / Pulmonary</td>\n",
       "      <td>DESCRIPTION:,1.  Normal cardiac chambers size....</td>\n",
       "    </tr>\n",
       "    <tr>\n",
       "      <th>11</th>\n",
       "      <td>Cardiovascular / Pulmonary</td>\n",
       "      <td>2-D STUDY,1. Mild aortic stenosis, widely calc...</td>\n",
       "    </tr>\n",
       "    <tr>\n",
       "      <th>...</th>\n",
       "      <td>...</td>\n",
       "      <td>...</td>\n",
       "    </tr>\n",
       "    <tr>\n",
       "      <th>4972</th>\n",
       "      <td>Cardiovascular / Pulmonary</td>\n",
       "      <td>INDICATION: , Chest pain.,TYPE OF TEST: , Aden...</td>\n",
       "    </tr>\n",
       "    <tr>\n",
       "      <th>4973</th>\n",
       "      <td>Cardiovascular / Pulmonary</td>\n",
       "      <td>CHIEF COMPLAINT: , Chest pain.,HISTORY OF PRES...</td>\n",
       "    </tr>\n",
       "    <tr>\n",
       "      <th>4974</th>\n",
       "      <td>Cardiovascular / Pulmonary</td>\n",
       "      <td>HISTORY OF PRESENT ILLNESS: , The patient is a...</td>\n",
       "    </tr>\n",
       "    <tr>\n",
       "      <th>4975</th>\n",
       "      <td>Cardiovascular / Pulmonary</td>\n",
       "      <td>HISTORY OF PRESENT ILLNESS: , Mr. ABC is a 60-...</td>\n",
       "    </tr>\n",
       "    <tr>\n",
       "      <th>4976</th>\n",
       "      <td>Cardiovascular / Pulmonary</td>\n",
       "      <td>REASON FOR CONSULTATION:  ,Abnormal echocardio...</td>\n",
       "    </tr>\n",
       "  </tbody>\n",
       "</table>\n",
       "<p>949 rows × 2 columns</p>\n",
       "</div>"
      ],
      "text/plain": [
       "               medical_specialty  \\\n",
       "3     Cardiovascular / Pulmonary   \n",
       "4     Cardiovascular / Pulmonary   \n",
       "7     Cardiovascular / Pulmonary   \n",
       "9     Cardiovascular / Pulmonary   \n",
       "11    Cardiovascular / Pulmonary   \n",
       "...                          ...   \n",
       "4972  Cardiovascular / Pulmonary   \n",
       "4973  Cardiovascular / Pulmonary   \n",
       "4974  Cardiovascular / Pulmonary   \n",
       "4975  Cardiovascular / Pulmonary   \n",
       "4976  Cardiovascular / Pulmonary   \n",
       "\n",
       "                                          transcription  \n",
       "3     2-D M-MODE: , ,1.  Left atrial enlargement wit...  \n",
       "4     1.  The left ventricular cavity size and wall ...  \n",
       "7     2-D ECHOCARDIOGRAM,Multiple views of the heart...  \n",
       "9     DESCRIPTION:,1.  Normal cardiac chambers size....  \n",
       "11    2-D STUDY,1. Mild aortic stenosis, widely calc...  \n",
       "...                                                 ...  \n",
       "4972  INDICATION: , Chest pain.,TYPE OF TEST: , Aden...  \n",
       "4973  CHIEF COMPLAINT: , Chest pain.,HISTORY OF PRES...  \n",
       "4974  HISTORY OF PRESENT ILLNESS: , The patient is a...  \n",
       "4975  HISTORY OF PRESENT ILLNESS: , Mr. ABC is a 60-...  \n",
       "4976  REASON FOR CONSULTATION:  ,Abnormal echocardio...  \n",
       "\n",
       "[949 rows x 2 columns]"
      ]
     },
     "execution_count": 13,
     "metadata": {},
     "output_type": "execute_result"
    }
   ],
   "source": [
    "data_subset = data[(data['medical_specialty'] == 'Cardiovascular / Pulmonary') | (data['medical_specialty'] == 'Neurology') | (data['medical_specialty'] == 'Orthopedic')]\n",
    "data_subset"
   ]
  },
  {
   "cell_type": "code",
   "execution_count": 14,
   "id": "4c3c6368",
   "metadata": {
    "scrolled": true
   },
   "outputs": [
    {
     "name": "stdout",
     "output_type": "stream",
     "text": [
      "<class 'pandas.core.frame.DataFrame'>\n",
      "Int64Index: 949 entries, 3 to 4976\n",
      "Data columns (total 2 columns):\n",
      " #   Column             Non-Null Count  Dtype \n",
      "---  ------             --------------  ----- \n",
      " 0   medical_specialty  949 non-null    object\n",
      " 1   transcription      949 non-null    object\n",
      "dtypes: object(2)\n",
      "memory usage: 22.2+ KB\n"
     ]
    }
   ],
   "source": [
    "data_subset.info()"
   ]
  },
  {
   "cell_type": "code",
   "execution_count": 15,
   "id": "74d21609",
   "metadata": {},
   "outputs": [
    {
     "data": {
      "text/plain": [
       "medical_specialty    0\n",
       "transcription        0\n",
       "dtype: int64"
      ]
     },
     "execution_count": 15,
     "metadata": {},
     "output_type": "execute_result"
    }
   ],
   "source": [
    "data_subset.isnull().sum()"
   ]
  },
  {
   "cell_type": "code",
   "execution_count": 16,
   "id": "52ec04a2",
   "metadata": {},
   "outputs": [
    {
     "data": {
      "text/html": [
       "<div>\n",
       "<style scoped>\n",
       "    .dataframe tbody tr th:only-of-type {\n",
       "        vertical-align: middle;\n",
       "    }\n",
       "\n",
       "    .dataframe tbody tr th {\n",
       "        vertical-align: top;\n",
       "    }\n",
       "\n",
       "    .dataframe thead th {\n",
       "        text-align: right;\n",
       "    }\n",
       "</style>\n",
       "<table border=\"1\" class=\"dataframe\">\n",
       "  <thead>\n",
       "    <tr style=\"text-align: right;\">\n",
       "      <th></th>\n",
       "      <th>medical_specialty</th>\n",
       "      <th>transcription</th>\n",
       "    </tr>\n",
       "  </thead>\n",
       "  <tbody>\n",
       "    <tr>\n",
       "      <th>count</th>\n",
       "      <td>949</td>\n",
       "      <td>949</td>\n",
       "    </tr>\n",
       "    <tr>\n",
       "      <th>unique</th>\n",
       "      <td>3</td>\n",
       "      <td>912</td>\n",
       "    </tr>\n",
       "    <tr>\n",
       "      <th>top</th>\n",
       "      <td>Cardiovascular / Pulmonary</td>\n",
       "      <td>CC: ,Low Back Pain (LBP) with associated BLE w...</td>\n",
       "    </tr>\n",
       "    <tr>\n",
       "      <th>freq</th>\n",
       "      <td>371</td>\n",
       "      <td>2</td>\n",
       "    </tr>\n",
       "  </tbody>\n",
       "</table>\n",
       "</div>"
      ],
      "text/plain": [
       "                 medical_specialty  \\\n",
       "count                          949   \n",
       "unique                           3   \n",
       "top     Cardiovascular / Pulmonary   \n",
       "freq                           371   \n",
       "\n",
       "                                            transcription  \n",
       "count                                                 949  \n",
       "unique                                                912  \n",
       "top     CC: ,Low Back Pain (LBP) with associated BLE w...  \n",
       "freq                                                    2  "
      ]
     },
     "execution_count": 16,
     "metadata": {},
     "output_type": "execute_result"
    }
   ],
   "source": [
    "data_subset.describe(include = object)"
   ]
  },
  {
   "cell_type": "code",
   "execution_count": 17,
   "id": "9af5dcd6",
   "metadata": {},
   "outputs": [
    {
     "data": {
      "text/plain": [
       "Cardiovascular / Pulmonary    0.390938\n",
       "Orthopedic                    0.374078\n",
       "Neurology                     0.234984\n",
       "Name: medical_specialty, dtype: float64"
      ]
     },
     "execution_count": 17,
     "metadata": {},
     "output_type": "execute_result"
    }
   ],
   "source": [
    "data_subset[\"medical_specialty\"].value_counts()/data_subset.shape[0]"
   ]
  },
  {
   "cell_type": "markdown",
   "id": "38c28ac9",
   "metadata": {},
   "source": [
    "- The resultant dataframe has been reduced to 2 features (medical_specialty & transcription). \n",
    "- There is no missing or duplicated data.\n",
    "- The medical specialty will be the target variable of interest and the transcription feature will be the predictor variable.\n",
    "- The remaining 3 medical specialties to not demonstrate any marked imbalances"
   ]
  },
  {
   "cell_type": "markdown",
   "id": "b84e83a2",
   "metadata": {},
   "source": [
    "# Text Cleaning & Pre-Processing"
   ]
  },
  {
   "cell_type": "markdown",
   "id": "bf454249",
   "metadata": {},
   "source": [
    "The following four examples demonstrate that the text apears clean (no extraneous text or code such as \"break\"). Therefore, I will now pre-process the text by normalizing it."
   ]
  },
  {
   "cell_type": "code",
   "execution_count": 18,
   "id": "d8e92a44",
   "metadata": {},
   "outputs": [
    {
     "data": {
      "text/plain": [
       "'2-D M-MODE: , ,1.  Left atrial enlargement with left atrial diameter of 4.7 cm.,2.  Normal size right and left ventricle.,3.  Normal LV systolic function with left ventricular ejection fraction of 51%.,4.  Normal LV diastolic function.,5.  No pericardial effusion.,6.  Normal morphology of aortic valve, mitral valve, tricuspid valve, and pulmonary valve.,7.  PA systolic pressure is 36 mmHg.,DOPPLER: , ,1.  Mild mitral and tricuspid regurgitation.,2.  Trace aortic and pulmonary regurgitation.'"
      ]
     },
     "execution_count": 18,
     "metadata": {},
     "output_type": "execute_result"
    }
   ],
   "source": [
    "data_subset.iloc[0,1]"
   ]
  },
  {
   "cell_type": "code",
   "execution_count": 19,
   "id": "3aa01d49",
   "metadata": {},
   "outputs": [
    {
     "data": {
      "text/plain": [
       "'1.  The left ventricular cavity size and wall thickness appear normal.  The wall motion and left ventricular systolic function appears hyperdynamic with estimated ejection fraction of 70% to 75%.  There is near-cavity obliteration seen.  There also appears to be increased left ventricular outflow tract gradient at the mid cavity level consistent with hyperdynamic left ventricular systolic function.  There is abnormal left ventricular relaxation pattern seen as well as elevated left atrial pressures seen by Doppler examination.,2.  The left atrium appears mildly dilated.,3.  The right atrium and right ventricle appear normal.,4.  The aortic root appears normal.,5.  The aortic valve appears calcified with mild aortic valve stenosis, calculated aortic valve area is 1.3 cm square with a maximum instantaneous gradient of 34 and a mean gradient of 19 mm.,6.  There is mitral annular calcification extending to leaflets and supportive structures with thickening of mitral valve leaflets with mild mitral regurgitation.,7.  The tricuspid valve appears normal with trace tricuspid regurgitation with moderate pulmonary artery hypertension.  Estimated pulmonary artery systolic pressure is 49 mmHg.  Estimated right atrial pressure of 10 mmHg.,8.  The pulmonary valve appears normal with trace pulmonary insufficiency.,9.  There is no pericardial effusion or intracardiac mass seen.,10.  There is a color Doppler suggestive of a patent foramen ovale with lipomatous hypertrophy of the interatrial septum.,11.  The study was somewhat technically limited and hence subtle abnormalities could be missed from the study.,'"
      ]
     },
     "execution_count": 19,
     "metadata": {},
     "output_type": "execute_result"
    }
   ],
   "source": [
    "data_subset.iloc[1,1]"
   ]
  },
  {
   "cell_type": "code",
   "execution_count": 20,
   "id": "fa42a680",
   "metadata": {},
   "outputs": [
    {
     "data": {
      "text/plain": [
       "'2-D ECHOCARDIOGRAM,Multiple views of the heart and great vessels reveal normal intracardiac and great vessel relationships.  Cardiac function is normal.  There is no significant chamber enlargement or hypertrophy.  There is no pericardial effusion or vegetations seen.  Doppler interrogation, including color flow imaging, reveals systemic venous return to the right atrium with normal tricuspid inflow.  Pulmonary outflow is normal at the valve.  Pulmonary venous return is to the left atrium.  The interatrial septum is intact.  Mitral inflow and ascending aorta flow are normal.  The aortic valve is trileaflet.  The coronary arteries appear to be normal in their origins.  The aortic arch is left-sided and patent with normal descending aorta pulsatility.'"
      ]
     },
     "execution_count": 20,
     "metadata": {},
     "output_type": "execute_result"
    }
   ],
   "source": [
    "data_subset.iloc[2,1]"
   ]
  },
  {
   "cell_type": "code",
   "execution_count": 21,
   "id": "5c389147",
   "metadata": {},
   "outputs": [
    {
     "data": {
      "text/plain": [
       "'DESCRIPTION:,1.  Normal cardiac chambers size.,2.  Normal left ventricular size.,3.  Normal LV systolic function.  Ejection fraction estimated around 60%.,4.  Aortic valve seen with good motion.,5.  Mitral valve seen with good motion.,6.  Tricuspid valve seen with good motion.,7.  No pericardial effusion or intracardiac masses.,DOPPLER:,1.  Trace mitral regurgitation.,2.  Trace tricuspid regurgitation.,IMPRESSION:,1.  Normal LV systolic function.,2.  Ejection fraction estimated around 60%.,'"
      ]
     },
     "execution_count": 21,
     "metadata": {},
     "output_type": "execute_result"
    }
   ],
   "source": [
    "data_subset.iloc[3,1]"
   ]
  },
  {
   "cell_type": "markdown",
   "id": "e92de42d",
   "metadata": {},
   "source": [
    "# Text Normalization\n",
    "I will perform the following steps to normalize all of the text:\n",
    "- Apply Lowercase\n",
    "- Remove Stop Words\n",
    "- Remove Numbers and Punctuation\n",
    "- Transcription Tokenization\n",
    "- Stemming"
   ]
  },
  {
   "cell_type": "markdown",
   "id": "f94796ff",
   "metadata": {},
   "source": [
    "## Lowercasing"
   ]
  },
  {
   "cell_type": "code",
   "execution_count": 22,
   "id": "3fc9eb25",
   "metadata": {
    "scrolled": false
   },
   "outputs": [
    {
     "name": "stderr",
     "output_type": "stream",
     "text": [
      "/opt/anaconda3/lib/python3.8/site-packages/pandas/core/indexing.py:1843: SettingWithCopyWarning: \n",
      "A value is trying to be set on a copy of a slice from a DataFrame.\n",
      "Try using .loc[row_indexer,col_indexer] = value instead\n",
      "\n",
      "See the caveats in the documentation: https://pandas.pydata.org/pandas-docs/stable/user_guide/indexing.html#returning-a-view-versus-a-copy\n",
      "  self.obj[item_labels[indexer[info_axis]]] = value\n"
     ]
    },
    {
     "data": {
      "text/html": [
       "<div>\n",
       "<style scoped>\n",
       "    .dataframe tbody tr th:only-of-type {\n",
       "        vertical-align: middle;\n",
       "    }\n",
       "\n",
       "    .dataframe tbody tr th {\n",
       "        vertical-align: top;\n",
       "    }\n",
       "\n",
       "    .dataframe thead th {\n",
       "        text-align: right;\n",
       "    }\n",
       "</style>\n",
       "<table border=\"1\" class=\"dataframe\">\n",
       "  <thead>\n",
       "    <tr style=\"text-align: right;\">\n",
       "      <th></th>\n",
       "      <th>medical_specialty</th>\n",
       "      <th>transcription</th>\n",
       "    </tr>\n",
       "  </thead>\n",
       "  <tbody>\n",
       "    <tr>\n",
       "      <th>3</th>\n",
       "      <td>Cardiovascular / Pulmonary</td>\n",
       "      <td>2-d m-mode: , ,1.  left atrial enlargement wit...</td>\n",
       "    </tr>\n",
       "    <tr>\n",
       "      <th>4</th>\n",
       "      <td>Cardiovascular / Pulmonary</td>\n",
       "      <td>1.  the left ventricular cavity size and wall ...</td>\n",
       "    </tr>\n",
       "    <tr>\n",
       "      <th>7</th>\n",
       "      <td>Cardiovascular / Pulmonary</td>\n",
       "      <td>2-d echocardiogram,multiple views of the heart...</td>\n",
       "    </tr>\n",
       "    <tr>\n",
       "      <th>9</th>\n",
       "      <td>Cardiovascular / Pulmonary</td>\n",
       "      <td>description:,1.  normal cardiac chambers size....</td>\n",
       "    </tr>\n",
       "    <tr>\n",
       "      <th>11</th>\n",
       "      <td>Cardiovascular / Pulmonary</td>\n",
       "      <td>2-d study,1. mild aortic stenosis, widely calc...</td>\n",
       "    </tr>\n",
       "  </tbody>\n",
       "</table>\n",
       "</div>"
      ],
      "text/plain": [
       "             medical_specialty  \\\n",
       "3   Cardiovascular / Pulmonary   \n",
       "4   Cardiovascular / Pulmonary   \n",
       "7   Cardiovascular / Pulmonary   \n",
       "9   Cardiovascular / Pulmonary   \n",
       "11  Cardiovascular / Pulmonary   \n",
       "\n",
       "                                        transcription  \n",
       "3   2-d m-mode: , ,1.  left atrial enlargement wit...  \n",
       "4   1.  the left ventricular cavity size and wall ...  \n",
       "7   2-d echocardiogram,multiple views of the heart...  \n",
       "9   description:,1.  normal cardiac chambers size....  \n",
       "11  2-d study,1. mild aortic stenosis, widely calc...  "
      ]
     },
     "execution_count": 22,
     "metadata": {},
     "output_type": "execute_result"
    }
   ],
   "source": [
    "def lowercase(data_subset, y):\n",
    "    data_subset.loc[:,y] = data_subset[y].apply(lambda x : str.lower(x))\n",
    "    return data_subset\n",
    "data_subset = lowercase(data_subset,'transcription')\n",
    "data_subset.head()"
   ]
  },
  {
   "cell_type": "markdown",
   "id": "fb6494a6",
   "metadata": {},
   "source": [
    "## Removal of Numbers and Punctuation"
   ]
  },
  {
   "cell_type": "code",
   "execution_count": 23,
   "id": "96044550",
   "metadata": {
    "scrolled": false
   },
   "outputs": [
    {
     "name": "stderr",
     "output_type": "stream",
     "text": [
      "/opt/anaconda3/lib/python3.8/site-packages/pandas/core/indexing.py:1843: SettingWithCopyWarning: \n",
      "A value is trying to be set on a copy of a slice from a DataFrame.\n",
      "Try using .loc[row_indexer,col_indexer] = value instead\n",
      "\n",
      "See the caveats in the documentation: https://pandas.pydata.org/pandas-docs/stable/user_guide/indexing.html#returning-a-view-versus-a-copy\n",
      "  self.obj[item_labels[indexer[info_axis]]] = value\n",
      "<ipython-input-23-c7a23b27c01c>:3: FutureWarning: The default value of regex will change from True to False in a future version.\n",
      "  data_subset[y] = data_subset[y].str.replace('\\d+', '')\n",
      "<ipython-input-23-c7a23b27c01c>:3: SettingWithCopyWarning: \n",
      "A value is trying to be set on a copy of a slice from a DataFrame.\n",
      "Try using .loc[row_indexer,col_indexer] = value instead\n",
      "\n",
      "See the caveats in the documentation: https://pandas.pydata.org/pandas-docs/stable/user_guide/indexing.html#returning-a-view-versus-a-copy\n",
      "  data_subset[y] = data_subset[y].str.replace('\\d+', '')\n"
     ]
    },
    {
     "data": {
      "text/html": [
       "<div>\n",
       "<style scoped>\n",
       "    .dataframe tbody tr th:only-of-type {\n",
       "        vertical-align: middle;\n",
       "    }\n",
       "\n",
       "    .dataframe tbody tr th {\n",
       "        vertical-align: top;\n",
       "    }\n",
       "\n",
       "    .dataframe thead th {\n",
       "        text-align: right;\n",
       "    }\n",
       "</style>\n",
       "<table border=\"1\" class=\"dataframe\">\n",
       "  <thead>\n",
       "    <tr style=\"text-align: right;\">\n",
       "      <th></th>\n",
       "      <th>medical_specialty</th>\n",
       "      <th>transcription</th>\n",
       "    </tr>\n",
       "  </thead>\n",
       "  <tbody>\n",
       "    <tr>\n",
       "      <th>3</th>\n",
       "      <td>Cardiovascular / Pulmonary</td>\n",
       "      <td>d m mode  left atrial enlargement with left a...</td>\n",
       "    </tr>\n",
       "    <tr>\n",
       "      <th>4</th>\n",
       "      <td>Cardiovascular / Pulmonary</td>\n",
       "      <td>the left ventricular cavity size and wall thi...</td>\n",
       "    </tr>\n",
       "    <tr>\n",
       "      <th>7</th>\n",
       "      <td>Cardiovascular / Pulmonary</td>\n",
       "      <td>d echocardiogram multiple views of the heart ...</td>\n",
       "    </tr>\n",
       "    <tr>\n",
       "      <th>9</th>\n",
       "      <td>Cardiovascular / Pulmonary</td>\n",
       "      <td>description  normal cardiac chambers size  nor...</td>\n",
       "    </tr>\n",
       "    <tr>\n",
       "      <th>11</th>\n",
       "      <td>Cardiovascular / Pulmonary</td>\n",
       "      <td>d study  mild aortic stenosis widely calcifie...</td>\n",
       "    </tr>\n",
       "  </tbody>\n",
       "</table>\n",
       "</div>"
      ],
      "text/plain": [
       "             medical_specialty  \\\n",
       "3   Cardiovascular / Pulmonary   \n",
       "4   Cardiovascular / Pulmonary   \n",
       "7   Cardiovascular / Pulmonary   \n",
       "9   Cardiovascular / Pulmonary   \n",
       "11  Cardiovascular / Pulmonary   \n",
       "\n",
       "                                        transcription  \n",
       "3    d m mode  left atrial enlargement with left a...  \n",
       "4    the left ventricular cavity size and wall thi...  \n",
       "7    d echocardiogram multiple views of the heart ...  \n",
       "9   description  normal cardiac chambers size  nor...  \n",
       "11   d study  mild aortic stenosis widely calcifie...  "
      ]
     },
     "execution_count": 23,
     "metadata": {},
     "output_type": "execute_result"
    }
   ],
   "source": [
    "def punctuation_number_removal(data_subset, y):\n",
    "    data_subset.loc[:,y] = data_subset[y].apply(lambda x : \" \".join(re.findall('[\\w]+',x)))\n",
    "    data_subset[y] = data_subset[y].str.replace('\\d+', '')\n",
    "    return data_subset\n",
    "data_subset =punctuation_number_removal(data_subset, 'transcription')\n",
    "data_subset.head()"
   ]
  },
  {
   "cell_type": "markdown",
   "id": "b4ac053e",
   "metadata": {},
   "source": [
    "## Tokenization"
   ]
  },
  {
   "cell_type": "code",
   "execution_count": 24,
   "id": "dad9e2f4",
   "metadata": {},
   "outputs": [
    {
     "name": "stderr",
     "output_type": "stream",
     "text": [
      "<ipython-input-24-7111eedf884f>:3: SettingWithCopyWarning: \n",
      "A value is trying to be set on a copy of a slice from a DataFrame.\n",
      "Try using .loc[row_indexer,col_indexer] = value instead\n",
      "\n",
      "See the caveats in the documentation: https://pandas.pydata.org/pandas-docs/stable/user_guide/indexing.html#returning-a-view-versus-a-copy\n",
      "  data_subset['token'] = data_subset.apply(lambda row: t.tokenize(str(row[y])), axis=1)\n"
     ]
    },
    {
     "data": {
      "text/html": [
       "<div>\n",
       "<style scoped>\n",
       "    .dataframe tbody tr th:only-of-type {\n",
       "        vertical-align: middle;\n",
       "    }\n",
       "\n",
       "    .dataframe tbody tr th {\n",
       "        vertical-align: top;\n",
       "    }\n",
       "\n",
       "    .dataframe thead th {\n",
       "        text-align: right;\n",
       "    }\n",
       "</style>\n",
       "<table border=\"1\" class=\"dataframe\">\n",
       "  <thead>\n",
       "    <tr style=\"text-align: right;\">\n",
       "      <th></th>\n",
       "      <th>medical_specialty</th>\n",
       "      <th>transcription</th>\n",
       "      <th>token</th>\n",
       "    </tr>\n",
       "  </thead>\n",
       "  <tbody>\n",
       "    <tr>\n",
       "      <th>3</th>\n",
       "      <td>Cardiovascular / Pulmonary</td>\n",
       "      <td>d m mode  left atrial enlargement with left a...</td>\n",
       "      <td>[, d, m, mode, , left, atrial, enlargement, wi...</td>\n",
       "    </tr>\n",
       "    <tr>\n",
       "      <th>4</th>\n",
       "      <td>Cardiovascular / Pulmonary</td>\n",
       "      <td>the left ventricular cavity size and wall thi...</td>\n",
       "      <td>[, the, left, ventricular, cavity, size, and, ...</td>\n",
       "    </tr>\n",
       "    <tr>\n",
       "      <th>7</th>\n",
       "      <td>Cardiovascular / Pulmonary</td>\n",
       "      <td>d echocardiogram multiple views of the heart ...</td>\n",
       "      <td>[, d, echocardiogram, multiple, views, of, the...</td>\n",
       "    </tr>\n",
       "    <tr>\n",
       "      <th>9</th>\n",
       "      <td>Cardiovascular / Pulmonary</td>\n",
       "      <td>description  normal cardiac chambers size  nor...</td>\n",
       "      <td>[description, , normal, cardiac, chambers, siz...</td>\n",
       "    </tr>\n",
       "    <tr>\n",
       "      <th>11</th>\n",
       "      <td>Cardiovascular / Pulmonary</td>\n",
       "      <td>d study  mild aortic stenosis widely calcifie...</td>\n",
       "      <td>[, d, study, , mild, aortic, stenosis, widely,...</td>\n",
       "    </tr>\n",
       "  </tbody>\n",
       "</table>\n",
       "</div>"
      ],
      "text/plain": [
       "             medical_specialty  \\\n",
       "3   Cardiovascular / Pulmonary   \n",
       "4   Cardiovascular / Pulmonary   \n",
       "7   Cardiovascular / Pulmonary   \n",
       "9   Cardiovascular / Pulmonary   \n",
       "11  Cardiovascular / Pulmonary   \n",
       "\n",
       "                                        transcription  \\\n",
       "3    d m mode  left atrial enlargement with left a...   \n",
       "4    the left ventricular cavity size and wall thi...   \n",
       "7    d echocardiogram multiple views of the heart ...   \n",
       "9   description  normal cardiac chambers size  nor...   \n",
       "11   d study  mild aortic stenosis widely calcifie...   \n",
       "\n",
       "                                                token  \n",
       "3   [, d, m, mode, , left, atrial, enlargement, wi...  \n",
       "4   [, the, left, ventricular, cavity, size, and, ...  \n",
       "7   [, d, echocardiogram, multiple, views, of, the...  \n",
       "9   [description, , normal, cardiac, chambers, siz...  \n",
       "11  [, d, study, , mild, aortic, stenosis, widely,...  "
      ]
     },
     "execution_count": 24,
     "metadata": {},
     "output_type": "execute_result"
    }
   ],
   "source": [
    "t =SpaceTokenizer()\n",
    "def tokenise(data_subset, y):\n",
    "    data_subset['token'] = data_subset.apply(lambda row: t.tokenize(str(row[y])), axis=1)\n",
    "    return data_subset\n",
    "data_subset =tokenise(data_subset, 'transcription')\n",
    "data_subset.head()"
   ]
  },
  {
   "cell_type": "markdown",
   "id": "f63c64d3",
   "metadata": {},
   "source": [
    "## Stemming"
   ]
  },
  {
   "cell_type": "code",
   "execution_count": 25,
   "id": "796cc65b",
   "metadata": {},
   "outputs": [
    {
     "name": "stderr",
     "output_type": "stream",
     "text": [
      "<ipython-input-25-03a07f5da2f5>:4: SettingWithCopyWarning: \n",
      "A value is trying to be set on a copy of a slice from a DataFrame.\n",
      "Try using .loc[row_indexer,col_indexer] = value instead\n",
      "\n",
      "See the caveats in the documentation: https://pandas.pydata.org/pandas-docs/stable/user_guide/indexing.html#returning-a-view-versus-a-copy\n",
      "  data_subset['stem'] = data_subset[y].apply(lambda x: [stem.stem(y) for y in x])\n"
     ]
    },
    {
     "data": {
      "text/html": [
       "<div>\n",
       "<style scoped>\n",
       "    .dataframe tbody tr th:only-of-type {\n",
       "        vertical-align: middle;\n",
       "    }\n",
       "\n",
       "    .dataframe tbody tr th {\n",
       "        vertical-align: top;\n",
       "    }\n",
       "\n",
       "    .dataframe thead th {\n",
       "        text-align: right;\n",
       "    }\n",
       "</style>\n",
       "<table border=\"1\" class=\"dataframe\">\n",
       "  <thead>\n",
       "    <tr style=\"text-align: right;\">\n",
       "      <th></th>\n",
       "      <th>medical_specialty</th>\n",
       "      <th>transcription</th>\n",
       "      <th>token</th>\n",
       "      <th>stem</th>\n",
       "    </tr>\n",
       "  </thead>\n",
       "  <tbody>\n",
       "    <tr>\n",
       "      <th>3</th>\n",
       "      <td>Cardiovascular / Pulmonary</td>\n",
       "      <td>d m mode  left atrial enlargement with left a...</td>\n",
       "      <td>[, d, m, mode, , left, atrial, enlargement, wi...</td>\n",
       "      <td>[, d, m, mode, , left, atrial, enlarg, with, l...</td>\n",
       "    </tr>\n",
       "    <tr>\n",
       "      <th>4</th>\n",
       "      <td>Cardiovascular / Pulmonary</td>\n",
       "      <td>the left ventricular cavity size and wall thi...</td>\n",
       "      <td>[, the, left, ventricular, cavity, size, and, ...</td>\n",
       "      <td>[, the, left, ventricular, caviti, size, and, ...</td>\n",
       "    </tr>\n",
       "    <tr>\n",
       "      <th>7</th>\n",
       "      <td>Cardiovascular / Pulmonary</td>\n",
       "      <td>d echocardiogram multiple views of the heart ...</td>\n",
       "      <td>[, d, echocardiogram, multiple, views, of, the...</td>\n",
       "      <td>[, d, echocardiogram, multipl, view, of, the, ...</td>\n",
       "    </tr>\n",
       "    <tr>\n",
       "      <th>9</th>\n",
       "      <td>Cardiovascular / Pulmonary</td>\n",
       "      <td>description  normal cardiac chambers size  nor...</td>\n",
       "      <td>[description, , normal, cardiac, chambers, siz...</td>\n",
       "      <td>[descript, , normal, cardiac, chamber, size, ,...</td>\n",
       "    </tr>\n",
       "    <tr>\n",
       "      <th>11</th>\n",
       "      <td>Cardiovascular / Pulmonary</td>\n",
       "      <td>d study  mild aortic stenosis widely calcifie...</td>\n",
       "      <td>[, d, study, , mild, aortic, stenosis, widely,...</td>\n",
       "      <td>[, d, studi, , mild, aortic, stenosi, wide, ca...</td>\n",
       "    </tr>\n",
       "  </tbody>\n",
       "</table>\n",
       "</div>"
      ],
      "text/plain": [
       "             medical_specialty  \\\n",
       "3   Cardiovascular / Pulmonary   \n",
       "4   Cardiovascular / Pulmonary   \n",
       "7   Cardiovascular / Pulmonary   \n",
       "9   Cardiovascular / Pulmonary   \n",
       "11  Cardiovascular / Pulmonary   \n",
       "\n",
       "                                        transcription  \\\n",
       "3    d m mode  left atrial enlargement with left a...   \n",
       "4    the left ventricular cavity size and wall thi...   \n",
       "7    d echocardiogram multiple views of the heart ...   \n",
       "9   description  normal cardiac chambers size  nor...   \n",
       "11   d study  mild aortic stenosis widely calcifie...   \n",
       "\n",
       "                                                token  \\\n",
       "3   [, d, m, mode, , left, atrial, enlargement, wi...   \n",
       "4   [, the, left, ventricular, cavity, size, and, ...   \n",
       "7   [, d, echocardiogram, multiple, views, of, the...   \n",
       "9   [description, , normal, cardiac, chambers, siz...   \n",
       "11  [, d, study, , mild, aortic, stenosis, widely,...   \n",
       "\n",
       "                                                 stem  \n",
       "3   [, d, m, mode, , left, atrial, enlarg, with, l...  \n",
       "4   [, the, left, ventricular, caviti, size, and, ...  \n",
       "7   [, d, echocardiogram, multipl, view, of, the, ...  \n",
       "9   [descript, , normal, cardiac, chamber, size, ,...  \n",
       "11  [, d, studi, , mild, aortic, stenosi, wide, ca...  "
      ]
     },
     "execution_count": 25,
     "metadata": {},
     "output_type": "execute_result"
    }
   ],
   "source": [
    "def stem(data_subset, y):\n",
    "    # Use English stemmer.\n",
    "    stem = PorterStemmer()\n",
    "    data_subset['stem'] = data_subset[y].apply(lambda x: [stem.stem(y) for y in x])\n",
    "    return data_subset\n",
    "data_subset =stem(data_subset, 'token')\n",
    "data_subset.head()"
   ]
  },
  {
   "cell_type": "markdown",
   "id": "4ec5e0ea",
   "metadata": {},
   "source": [
    "## Stopword Removal"
   ]
  },
  {
   "cell_type": "code",
   "execution_count": 26,
   "id": "e090f2a6",
   "metadata": {},
   "outputs": [
    {
     "name": "stdout",
     "output_type": "stream",
     "text": [
      "['i', 'me', 'my', 'myself', 'we', 'our', 'ours', 'ourselves', 'you', \"you're\", \"you've\", \"you'll\", \"you'd\", 'your', 'yours', 'yourself', 'yourselves', 'he', 'him', 'his', 'himself', 'she', \"she's\", 'her', 'hers', 'herself', 'it', \"it's\", 'its', 'itself', 'they', 'them', 'their', 'theirs', 'themselves', 'what', 'which', 'who', 'whom', 'this', 'that', \"that'll\", 'these', 'those', 'am', 'is', 'are', 'was', 'were', 'be', 'been', 'being', 'have', 'has', 'had', 'having', 'do', 'does', 'did', 'doing', 'a', 'an', 'the', 'and', 'but', 'if', 'or', 'because', 'as', 'until', 'while', 'of', 'at', 'by', 'for', 'with', 'about', 'against', 'between', 'into', 'through', 'during', 'before', 'after', 'above', 'below', 'to', 'from', 'up', 'down', 'in', 'out', 'on', 'off', 'over', 'under', 'again', 'further', 'then', 'once', 'here', 'there', 'when', 'where', 'why', 'how', 'all', 'any', 'both', 'each', 'few', 'more', 'most', 'other', 'some', 'such', 'no', 'nor', 'not', 'only', 'own', 'same', 'so', 'than', 'too', 'very', 's', 't', 'can', 'will', 'just', 'don', \"don't\", 'should', \"should've\", 'now', 'd', 'll', 'm', 'o', 're', 've', 'y', 'ain', 'aren', \"aren't\", 'couldn', \"couldn't\", 'didn', \"didn't\", 'doesn', \"doesn't\", 'hadn', \"hadn't\", 'hasn', \"hasn't\", 'haven', \"haven't\", 'isn', \"isn't\", 'ma', 'mightn', \"mightn't\", 'mustn', \"mustn't\", 'needn', \"needn't\", 'shan', \"shan't\", 'shouldn', \"shouldn't\", 'wasn', \"wasn't\", 'weren', \"weren't\", 'won', \"won't\", 'wouldn', \"wouldn't\"]\n"
     ]
    }
   ],
   "source": [
    "stop = stopwords.words('english')\n",
    "print(stop)"
   ]
  },
  {
   "cell_type": "code",
   "execution_count": 27,
   "id": "86b02c56",
   "metadata": {
    "scrolled": false
   },
   "outputs": [
    {
     "name": "stderr",
     "output_type": "stream",
     "text": [
      "<ipython-input-27-08ba20c032ce>:3: SettingWithCopyWarning: \n",
      "A value is trying to be set on a copy of a slice from a DataFrame.\n",
      "Try using .loc[row_indexer,col_indexer] = value instead\n",
      "\n",
      "See the caveats in the documentation: https://pandas.pydata.org/pandas-docs/stable/user_guide/indexing.html#returning-a-view-versus-a-copy\n",
      "  data_subset['stem_no_stop'] = data_subset[y].apply(lambda x: ' '.join([word for word in x if word not in (stop)]))\n"
     ]
    },
    {
     "data": {
      "text/html": [
       "<div>\n",
       "<style scoped>\n",
       "    .dataframe tbody tr th:only-of-type {\n",
       "        vertical-align: middle;\n",
       "    }\n",
       "\n",
       "    .dataframe tbody tr th {\n",
       "        vertical-align: top;\n",
       "    }\n",
       "\n",
       "    .dataframe thead th {\n",
       "        text-align: right;\n",
       "    }\n",
       "</style>\n",
       "<table border=\"1\" class=\"dataframe\">\n",
       "  <thead>\n",
       "    <tr style=\"text-align: right;\">\n",
       "      <th></th>\n",
       "      <th>medical_specialty</th>\n",
       "      <th>transcription</th>\n",
       "      <th>token</th>\n",
       "      <th>stem</th>\n",
       "      <th>stem_no_stop</th>\n",
       "    </tr>\n",
       "  </thead>\n",
       "  <tbody>\n",
       "    <tr>\n",
       "      <th>3</th>\n",
       "      <td>Cardiovascular / Pulmonary</td>\n",
       "      <td>d m mode  left atrial enlargement with left a...</td>\n",
       "      <td>[, d, m, mode, , left, atrial, enlargement, wi...</td>\n",
       "      <td>[, d, m, mode, , left, atrial, enlarg, with, l...</td>\n",
       "      <td>mode  left atrial enlarg left atrial diamet  ...</td>\n",
       "    </tr>\n",
       "    <tr>\n",
       "      <th>4</th>\n",
       "      <td>Cardiovascular / Pulmonary</td>\n",
       "      <td>the left ventricular cavity size and wall thi...</td>\n",
       "      <td>[, the, left, ventricular, cavity, size, and, ...</td>\n",
       "      <td>[, the, left, ventricular, caviti, size, and, ...</td>\n",
       "      <td>left ventricular caviti size wall thick appea...</td>\n",
       "    </tr>\n",
       "    <tr>\n",
       "      <th>7</th>\n",
       "      <td>Cardiovascular / Pulmonary</td>\n",
       "      <td>d echocardiogram multiple views of the heart ...</td>\n",
       "      <td>[, d, echocardiogram, multiple, views, of, the...</td>\n",
       "      <td>[, d, echocardiogram, multipl, view, of, the, ...</td>\n",
       "      <td>echocardiogram multipl view heart great vesse...</td>\n",
       "    </tr>\n",
       "    <tr>\n",
       "      <th>9</th>\n",
       "      <td>Cardiovascular / Pulmonary</td>\n",
       "      <td>description  normal cardiac chambers size  nor...</td>\n",
       "      <td>[description, , normal, cardiac, chambers, siz...</td>\n",
       "      <td>[descript, , normal, cardiac, chamber, size, ,...</td>\n",
       "      <td>descript  normal cardiac chamber size  normal ...</td>\n",
       "    </tr>\n",
       "    <tr>\n",
       "      <th>11</th>\n",
       "      <td>Cardiovascular / Pulmonary</td>\n",
       "      <td>d study  mild aortic stenosis widely calcifie...</td>\n",
       "      <td>[, d, study, , mild, aortic, stenosis, widely,...</td>\n",
       "      <td>[, d, studi, , mild, aortic, stenosi, wide, ca...</td>\n",
       "      <td>studi  mild aortic stenosi wide calcifi minim...</td>\n",
       "    </tr>\n",
       "  </tbody>\n",
       "</table>\n",
       "</div>"
      ],
      "text/plain": [
       "             medical_specialty  \\\n",
       "3   Cardiovascular / Pulmonary   \n",
       "4   Cardiovascular / Pulmonary   \n",
       "7   Cardiovascular / Pulmonary   \n",
       "9   Cardiovascular / Pulmonary   \n",
       "11  Cardiovascular / Pulmonary   \n",
       "\n",
       "                                        transcription  \\\n",
       "3    d m mode  left atrial enlargement with left a...   \n",
       "4    the left ventricular cavity size and wall thi...   \n",
       "7    d echocardiogram multiple views of the heart ...   \n",
       "9   description  normal cardiac chambers size  nor...   \n",
       "11   d study  mild aortic stenosis widely calcifie...   \n",
       "\n",
       "                                                token  \\\n",
       "3   [, d, m, mode, , left, atrial, enlargement, wi...   \n",
       "4   [, the, left, ventricular, cavity, size, and, ...   \n",
       "7   [, d, echocardiogram, multiple, views, of, the...   \n",
       "9   [description, , normal, cardiac, chambers, siz...   \n",
       "11  [, d, study, , mild, aortic, stenosis, widely,...   \n",
       "\n",
       "                                                 stem  \\\n",
       "3   [, d, m, mode, , left, atrial, enlarg, with, l...   \n",
       "4   [, the, left, ventricular, caviti, size, and, ...   \n",
       "7   [, d, echocardiogram, multipl, view, of, the, ...   \n",
       "9   [descript, , normal, cardiac, chamber, size, ,...   \n",
       "11  [, d, studi, , mild, aortic, stenosi, wide, ca...   \n",
       "\n",
       "                                         stem_no_stop  \n",
       "3    mode  left atrial enlarg left atrial diamet  ...  \n",
       "4    left ventricular caviti size wall thick appea...  \n",
       "7    echocardiogram multipl view heart great vesse...  \n",
       "9   descript  normal cardiac chamber size  normal ...  \n",
       "11   studi  mild aortic stenosi wide calcifi minim...  "
      ]
     },
     "execution_count": 27,
     "metadata": {},
     "output_type": "execute_result"
    }
   ],
   "source": [
    "def remove_stop(data_subset, y):\n",
    "    stop = stopwords.words('english')\n",
    "    data_subset['stem_no_stop'] = data_subset[y].apply(lambda x: ' '.join([word for word in x if word not in (stop)]))\n",
    "    return data_subset\n",
    "data_subset = remove_stop(data_subset, 'stem')\n",
    "data_subset.head()"
   ]
  },
  {
   "cell_type": "markdown",
   "id": "18eb59d0",
   "metadata": {},
   "source": [
    "## Processed Finalized Dataframe"
   ]
  },
  {
   "cell_type": "code",
   "execution_count": 28,
   "id": "030c8572",
   "metadata": {},
   "outputs": [
    {
     "data": {
      "text/html": [
       "<div>\n",
       "<style scoped>\n",
       "    .dataframe tbody tr th:only-of-type {\n",
       "        vertical-align: middle;\n",
       "    }\n",
       "\n",
       "    .dataframe tbody tr th {\n",
       "        vertical-align: top;\n",
       "    }\n",
       "\n",
       "    .dataframe thead th {\n",
       "        text-align: right;\n",
       "    }\n",
       "</style>\n",
       "<table border=\"1\" class=\"dataframe\">\n",
       "  <thead>\n",
       "    <tr style=\"text-align: right;\">\n",
       "      <th></th>\n",
       "      <th>medical_specialty</th>\n",
       "      <th>stem_no_stop</th>\n",
       "    </tr>\n",
       "  </thead>\n",
       "  <tbody>\n",
       "    <tr>\n",
       "      <th>3</th>\n",
       "      <td>Cardiovascular / Pulmonary</td>\n",
       "      <td>mode  left atrial enlarg left atrial diamet  ...</td>\n",
       "    </tr>\n",
       "    <tr>\n",
       "      <th>4</th>\n",
       "      <td>Cardiovascular / Pulmonary</td>\n",
       "      <td>left ventricular caviti size wall thick appea...</td>\n",
       "    </tr>\n",
       "    <tr>\n",
       "      <th>7</th>\n",
       "      <td>Cardiovascular / Pulmonary</td>\n",
       "      <td>echocardiogram multipl view heart great vesse...</td>\n",
       "    </tr>\n",
       "    <tr>\n",
       "      <th>9</th>\n",
       "      <td>Cardiovascular / Pulmonary</td>\n",
       "      <td>descript  normal cardiac chamber size  normal ...</td>\n",
       "    </tr>\n",
       "    <tr>\n",
       "      <th>11</th>\n",
       "      <td>Cardiovascular / Pulmonary</td>\n",
       "      <td>studi  mild aortic stenosi wide calcifi minim...</td>\n",
       "    </tr>\n",
       "    <tr>\n",
       "      <th>...</th>\n",
       "      <td>...</td>\n",
       "      <td>...</td>\n",
       "    </tr>\n",
       "    <tr>\n",
       "      <th>4972</th>\n",
       "      <td>Cardiovascular / Pulmonary</td>\n",
       "      <td>indic chest pain type test adenosin nuclear sc...</td>\n",
       "    </tr>\n",
       "    <tr>\n",
       "      <th>4973</th>\n",
       "      <td>Cardiovascular / Pulmonary</td>\n",
       "      <td>chief complaint chest pain histori present ill...</td>\n",
       "    </tr>\n",
       "    <tr>\n",
       "      <th>4974</th>\n",
       "      <td>Cardiovascular / Pulmonary</td>\n",
       "      <td>histori present ill patient  year old woman fo...</td>\n",
       "    </tr>\n",
       "    <tr>\n",
       "      <th>4975</th>\n",
       "      <td>Cardiovascular / Pulmonary</td>\n",
       "      <td>histori present ill mr abc  year old gentleman...</td>\n",
       "    </tr>\n",
       "    <tr>\n",
       "      <th>4976</th>\n",
       "      <td>Cardiovascular / Pulmonary</td>\n",
       "      <td>reason consult abnorm echocardiogram find foll...</td>\n",
       "    </tr>\n",
       "  </tbody>\n",
       "</table>\n",
       "<p>949 rows × 2 columns</p>\n",
       "</div>"
      ],
      "text/plain": [
       "               medical_specialty  \\\n",
       "3     Cardiovascular / Pulmonary   \n",
       "4     Cardiovascular / Pulmonary   \n",
       "7     Cardiovascular / Pulmonary   \n",
       "9     Cardiovascular / Pulmonary   \n",
       "11    Cardiovascular / Pulmonary   \n",
       "...                          ...   \n",
       "4972  Cardiovascular / Pulmonary   \n",
       "4973  Cardiovascular / Pulmonary   \n",
       "4974  Cardiovascular / Pulmonary   \n",
       "4975  Cardiovascular / Pulmonary   \n",
       "4976  Cardiovascular / Pulmonary   \n",
       "\n",
       "                                           stem_no_stop  \n",
       "3      mode  left atrial enlarg left atrial diamet  ...  \n",
       "4      left ventricular caviti size wall thick appea...  \n",
       "7      echocardiogram multipl view heart great vesse...  \n",
       "9     descript  normal cardiac chamber size  normal ...  \n",
       "11     studi  mild aortic stenosi wide calcifi minim...  \n",
       "...                                                 ...  \n",
       "4972  indic chest pain type test adenosin nuclear sc...  \n",
       "4973  chief complaint chest pain histori present ill...  \n",
       "4974  histori present ill patient  year old woman fo...  \n",
       "4975  histori present ill mr abc  year old gentleman...  \n",
       "4976  reason consult abnorm echocardiogram find foll...  \n",
       "\n",
       "[949 rows x 2 columns]"
      ]
     },
     "execution_count": 28,
     "metadata": {},
     "output_type": "execute_result"
    }
   ],
   "source": [
    "data_subset =data_subset.drop(['transcription','token', 'stem'], axis=1)\n",
    "data_subset"
   ]
  },
  {
   "cell_type": "markdown",
   "id": "5b64a6d7",
   "metadata": {},
   "source": [
    "# Modeling"
   ]
  },
  {
   "cell_type": "markdown",
   "id": "794483d4",
   "metadata": {},
   "source": [
    "## Train/Test Set Creation"
   ]
  },
  {
   "cell_type": "code",
   "execution_count": 29,
   "id": "dd824cd7",
   "metadata": {},
   "outputs": [
    {
     "name": "stdout",
     "output_type": "stream",
     "text": [
      "original data:  (949,) (949,)\n",
      "training set:  (711,) (711,)\n",
      "testing set:  (238,) (238,)\n"
     ]
    }
   ],
   "source": [
    "Y = data_subset.medical_specialty\n",
    "X = data_subset.stem_no_stop\n",
    "X_train, X_test, Y_train, Y_test = train_test_split(X, Y, random_state = 42)\n",
    "print(\"original data: \", X.shape, Y.shape)\n",
    "print(\"training set: \", X_train.shape, Y_train.shape)\n",
    "print(\"testing set: \", X_test.shape, Y_test.shape)"
   ]
  },
  {
   "cell_type": "markdown",
   "id": "21d0a6fc",
   "metadata": {},
   "source": [
    "## Feature Extraction & Testing Data Transformation"
   ]
  },
  {
   "cell_type": "code",
   "execution_count": 30,
   "id": "ff008105",
   "metadata": {},
   "outputs": [
    {
     "name": "stdout",
     "output_type": "stream",
     "text": [
      "(711, 8750) (238, 8750)\n"
     ]
    }
   ],
   "source": [
    "vect = CountVectorizer()\n",
    "X_train_dtm = vect.fit_transform(X_train)\n",
    "X_test_dtm = vect.transform(X_test)\n",
    "print(X_train_dtm.shape, X_test_dtm.shape)"
   ]
  },
  {
   "cell_type": "markdown",
   "id": "1c237d6c",
   "metadata": {},
   "source": [
    "- I have extracted 8750 features from the training sample using standard hyperparameter settings and have used this feature extraction to transform the test sample."
   ]
  },
  {
   "cell_type": "markdown",
   "id": "9e1f2e7f",
   "metadata": {},
   "source": [
    "## Train 2 Classifiers"
   ]
  },
  {
   "cell_type": "code",
   "execution_count": 31,
   "id": "9eb014c5",
   "metadata": {},
   "outputs": [],
   "source": [
    "nb = MultinomialNB()\n",
    "nb_estimator = nb.fit(X_train_dtm, Y_train)\n",
    "y_pred_class = nb.predict(X_test_dtm)"
   ]
  },
  {
   "cell_type": "code",
   "execution_count": 32,
   "id": "f7e46b89",
   "metadata": {},
   "outputs": [],
   "source": [
    "cnb = ComplementNB() \n",
    "cnb_estimator = cnb.fit(X_train_dtm, Y_train)\n",
    "y_pred_class2 = cnb.predict(X_test_dtm)"
   ]
  },
  {
   "cell_type": "markdown",
   "id": "7b3011be",
   "metadata": {},
   "source": [
    "## Evaluate Classifier Performance"
   ]
  },
  {
   "cell_type": "code",
   "execution_count": 33,
   "id": "6886a68c",
   "metadata": {},
   "outputs": [
    {
     "name": "stdout",
     "output_type": "stream",
     "text": [
      "Mutionomial NB Accuracy:  0.8739495798319328\n",
      "Complement NB Accuracy:  0.8991596638655462\n"
     ]
    }
   ],
   "source": [
    "print(\"Mutionomial NB Accuracy: \", accuracy_score(Y_test, y_pred_class))\n",
    "print(\"Complement NB Accuracy: \", accuracy_score(Y_test, y_pred_class2))"
   ]
  },
  {
   "cell_type": "code",
   "execution_count": 34,
   "id": "26c8758c",
   "metadata": {},
   "outputs": [
    {
     "data": {
      "text/plain": [
       "<sklearn.metrics._plot.confusion_matrix.ConfusionMatrixDisplay at 0x7fe66d4c04f0>"
      ]
     },
     "execution_count": 34,
     "metadata": {},
     "output_type": "execute_result"
    },
    {
     "data": {
      "image/png": "[encoded data removed]",
      "text/plain": [
       "<Figure size 432x288 with 2 Axes>"
      ]
     },
     "metadata": {
      "needs_background": "light"
     },
     "output_type": "display_data"
    }
   ],
   "source": [
    "ConfusionMatrixDisplay.from_estimator(nb_estimator, X_test_dtm, Y_test)"
   ]
  },
  {
   "cell_type": "code",
   "execution_count": 35,
   "id": "04885eac",
   "metadata": {
    "scrolled": true
   },
   "outputs": [
    {
     "data": {
      "text/plain": [
       "<sklearn.metrics._plot.confusion_matrix.ConfusionMatrixDisplay at 0x7fe669034a00>"
      ]
     },
     "execution_count": 35,
     "metadata": {},
     "output_type": "execute_result"
    },
    {
     "data": {
      "image/png": "[encoded data removed]",
      "text/plain": [
       "<Figure size 432x288 with 2 Axes>"
      ]
     },
     "metadata": {
      "needs_background": "light"
     },
     "output_type": "display_data"
    }
   ],
   "source": [
    "ConfusionMatrixDisplay.from_estimator(cnb_estimator, X_test_dtm, Y_test)"
   ]
  },
  {
   "cell_type": "markdown",
   "id": "6041d932",
   "metadata": {},
   "source": [
    "# Interpreting the Results"
   ]
  },
  {
   "cell_type": "markdown",
   "id": "5ed67a5e",
   "metadata": {},
   "source": [
    "- Both of the classifiers yielded similar accuracy; however, The complement NB results were superior at nearly 90% vs. the multinomial NB at 87.3%.\n",
    "- Reviewing the confusion matrices, it is evident that the orthopedic and cardiovascular/pulmonary medical specialties demonstrated higher precision via complement NB, whereas neurology noted higher precision via multinomial NB."
   ]
  },
  {
   "cell_type": "markdown",
   "id": "9b8c22b0",
   "metadata": {},
   "source": [
    "# Unsupervised Clustering"
   ]
  },
  {
   "cell_type": "code",
   "execution_count": 36,
   "id": "528f1ccf",
   "metadata": {
    "scrolled": true
   },
   "outputs": [
    {
     "data": {
      "text/plain": [
       "(949, 5234)"
      ]
     },
     "execution_count": 36,
     "metadata": {},
     "output_type": "execute_result"
    }
   ],
   "source": [
    "cv = CountVectorizer(ngram_range=(1, 2), min_df=10, max_df=0.8)\n",
    "cv_matrix = cv.fit_transform(data_subset.stem_no_stop)\n",
    "cv_matrix.shape"
   ]
  },
  {
   "cell_type": "markdown",
   "id": "c1184aa7",
   "metadata": {},
   "source": [
    "- I have used the same preprocessed dataset from the first part of the assignment.\n",
    "- I have used the unigrams and bigrams, combined with TF_IDF to extract 5234 features from all of the available transcription data. No training or testing samples were created."
   ]
  },
  {
   "cell_type": "code",
   "execution_count": 37,
   "id": "c58281c0",
   "metadata": {
    "scrolled": true
   },
   "outputs": [
    {
     "data": {
      "text/html": [
       "<style>#sk-container-id-1 {color: black;background-color: white;}#sk-container-id-1 pre{padding: 0;}#sk-container-id-1 div.sk-toggleable {background-color: white;}#sk-container-id-1 label.sk-toggleable__label {cursor: pointer;display: block;width: 100%;margin-bottom: 0;padding: 0.3em;box-sizing: border-box;text-align: center;}#sk-container-id-1 label.sk-toggleable__label-arrow:before {content: \"▸\";float: left;margin-right: 0.25em;color: #696969;}#sk-container-id-1 label.sk-toggleable__label-arrow:hover:before {color: black;}#sk-container-id-1 div.sk-estimator:hover label.sk-toggleable__label-arrow:before {color: black;}#sk-container-id-1 div.sk-toggleable__content {max-height: 0;max-width: 0;overflow: hidden;text-align: left;background-color: #f0f8ff;}#sk-container-id-1 div.sk-toggleable__content pre {margin: 0.2em;color: black;border-radius: 0.25em;background-color: #f0f8ff;}#sk-container-id-1 input.sk-toggleable__control:checked~div.sk-toggleable__content {max-height: 200px;max-width: 100%;overflow: auto;}#sk-container-id-1 input.sk-toggleable__control:checked~label.sk-toggleable__label-arrow:before {content: \"▾\";}#sk-container-id-1 div.sk-estimator input.sk-toggleable__control:checked~label.sk-toggleable__label {background-color: #d4ebff;}#sk-container-id-1 div.sk-label input.sk-toggleable__control:checked~label.sk-toggleable__label {background-color: #d4ebff;}#sk-container-id-1 input.sk-hidden--visually {border: 0;clip: rect(1px 1px 1px 1px);clip: rect(1px, 1px, 1px, 1px);height: 1px;margin: -1px;overflow: hidden;padding: 0;position: absolute;width: 1px;}#sk-container-id-1 div.sk-estimator {font-family: monospace;background-color: #f0f8ff;border: 1px dotted black;border-radius: 0.25em;box-sizing: border-box;margin-bottom: 0.5em;}#sk-container-id-1 div.sk-estimator:hover {background-color: #d4ebff;}#sk-container-id-1 div.sk-parallel-item::after {content: \"\";width: 100%;border-bottom: 1px solid gray;flex-grow: 1;}#sk-container-id-1 div.sk-label:hover label.sk-toggleable__label {background-color: #d4ebff;}#sk-container-id-1 div.sk-serial::before {content: \"\";position: absolute;border-left: 1px solid gray;box-sizing: border-box;top: 0;bottom: 0;left: 50%;z-index: 0;}#sk-container-id-1 div.sk-serial {display: flex;flex-direction: column;align-items: center;background-color: white;padding-right: 0.2em;padding-left: 0.2em;position: relative;}#sk-container-id-1 div.sk-item {position: relative;z-index: 1;}#sk-container-id-1 div.sk-parallel {display: flex;align-items: stretch;justify-content: center;background-color: white;position: relative;}#sk-container-id-1 div.sk-item::before, #sk-container-id-1 div.sk-parallel-item::before {content: \"\";position: absolute;border-left: 1px solid gray;box-sizing: border-box;top: 0;bottom: 0;left: 50%;z-index: -1;}#sk-container-id-1 div.sk-parallel-item {display: flex;flex-direction: column;z-index: 1;position: relative;background-color: white;}#sk-container-id-1 div.sk-parallel-item:first-child::after {align-self: flex-end;width: 50%;}#sk-container-id-1 div.sk-parallel-item:last-child::after {align-self: flex-start;width: 50%;}#sk-container-id-1 div.sk-parallel-item:only-child::after {width: 0;}#sk-container-id-1 div.sk-dashed-wrapped {border: 1px dashed gray;margin: 0 0.4em 0.5em 0.4em;box-sizing: border-box;padding-bottom: 0.4em;background-color: white;}#sk-container-id-1 div.sk-label label {font-family: monospace;font-weight: bold;display: inline-block;line-height: 1.2em;}#sk-container-id-1 div.sk-label-container {text-align: center;}#sk-container-id-1 div.sk-container {/* jupyter's `normalize.less` sets `[hidden] { display: none; }` but bootstrap.min.css set `[hidden] { display: none !important; }` so we also need the `!important` here to be able to override the default hidden behavior on the sphinx rendered scikit-learn.org. See: https://github.com/scikit-learn/scikit-learn/issues/21755 */display: inline-block !important;position: relative;}#sk-container-id-1 div.sk-text-repr-fallback {display: none;}</style><div id=\"sk-container-id-1\" class=\"sk-top-container\"><div class=\"sk-text-repr-fallback\"><pre>KMeans(max_iter=10000, n_clusters=3, n_init=50, random_state=42)</pre><b>In a Jupyter environment, please rerun this cell to show the HTML representation or trust the notebook. <br />On GitHub, the HTML representation is unable to render, please try loading this page with nbviewer.org.</b></div><div class=\"sk-container\" hidden><div class=\"sk-item\"><div class=\"sk-estimator sk-toggleable\"><input class=\"sk-toggleable__control sk-hidden--visually\" id=\"sk-estimator-id-1\" type=\"checkbox\" checked><label for=\"sk-estimator-id-1\" class=\"sk-toggleable__label sk-toggleable__label-arrow\">KMeans</label><div class=\"sk-toggleable__content\"><pre>KMeans(max_iter=10000, n_clusters=3, n_init=50, random_state=42)</pre></div></div></div></div></div>"
      ],
      "text/plain": [
       "KMeans(max_iter=10000, n_clusters=3, n_init=50, random_state=42)"
      ]
     },
     "execution_count": 37,
     "metadata": {},
     "output_type": "execute_result"
    }
   ],
   "source": [
    "from sklearn.cluster import KMeans\n",
    "km = KMeans(n_clusters=3, max_iter=10000, n_init=50, random_state=42).fit(cv_matrix)\n",
    "km"
   ]
  },
  {
   "cell_type": "markdown",
   "id": "a17d3b3e",
   "metadata": {},
   "source": [
    "- Here I used KMeans clustering to find the 3 nearest data points to identify the cluster that the datapoint will be assigned to."
   ]
  },
  {
   "cell_type": "code",
   "execution_count": 38,
   "id": "9d5bfa3d",
   "metadata": {},
   "outputs": [
    {
     "data": {
      "text/plain": [
       "Counter({1: 727, 0: 175, 2: 47})"
      ]
     },
     "execution_count": 38,
     "metadata": {},
     "output_type": "execute_result"
    }
   ],
   "source": [
    "from collections import Counter\n",
    "\n",
    "Counter(km.labels_)"
   ]
  },
  {
   "cell_type": "markdown",
   "id": "03666ff4",
   "metadata": {},
   "source": [
    "- The clustering appears to be imbalanced from the true distribution of the each of the medical specialties."
   ]
  },
  {
   "cell_type": "code",
   "execution_count": 39,
   "id": "c457f3b6",
   "metadata": {},
   "outputs": [
    {
     "data": {
      "text/html": [
       "<div>\n",
       "<style scoped>\n",
       "    .dataframe tbody tr th:only-of-type {\n",
       "        vertical-align: middle;\n",
       "    }\n",
       "\n",
       "    .dataframe tbody tr th {\n",
       "        vertical-align: top;\n",
       "    }\n",
       "\n",
       "    .dataframe thead th {\n",
       "        text-align: right;\n",
       "    }\n",
       "</style>\n",
       "<table border=\"1\" class=\"dataframe\">\n",
       "  <thead>\n",
       "    <tr style=\"text-align: right;\">\n",
       "      <th></th>\n",
       "      <th>medical_specialty</th>\n",
       "      <th>stem_no_stop</th>\n",
       "      <th>kmeans_cluster</th>\n",
       "    </tr>\n",
       "  </thead>\n",
       "  <tbody>\n",
       "    <tr>\n",
       "      <th>3</th>\n",
       "      <td>Cardiovascular / Pulmonary</td>\n",
       "      <td>mode  left atrial enlarg left atrial diamet  ...</td>\n",
       "      <td>1</td>\n",
       "    </tr>\n",
       "    <tr>\n",
       "      <th>4</th>\n",
       "      <td>Cardiovascular / Pulmonary</td>\n",
       "      <td>left ventricular caviti size wall thick appea...</td>\n",
       "      <td>1</td>\n",
       "    </tr>\n",
       "    <tr>\n",
       "      <th>7</th>\n",
       "      <td>Cardiovascular / Pulmonary</td>\n",
       "      <td>echocardiogram multipl view heart great vesse...</td>\n",
       "      <td>1</td>\n",
       "    </tr>\n",
       "    <tr>\n",
       "      <th>9</th>\n",
       "      <td>Cardiovascular / Pulmonary</td>\n",
       "      <td>descript  normal cardiac chamber size  normal ...</td>\n",
       "      <td>1</td>\n",
       "    </tr>\n",
       "    <tr>\n",
       "      <th>11</th>\n",
       "      <td>Cardiovascular / Pulmonary</td>\n",
       "      <td>studi  mild aortic stenosi wide calcifi minim...</td>\n",
       "      <td>1</td>\n",
       "    </tr>\n",
       "    <tr>\n",
       "      <th>...</th>\n",
       "      <td>...</td>\n",
       "      <td>...</td>\n",
       "      <td>...</td>\n",
       "    </tr>\n",
       "    <tr>\n",
       "      <th>2100</th>\n",
       "      <td>Orthopedic</td>\n",
       "      <td>preoper diagnos open displac infect left atrop...</td>\n",
       "      <td>0</td>\n",
       "    </tr>\n",
       "    <tr>\n",
       "      <th>2101</th>\n",
       "      <td>Orthopedic</td>\n",
       "      <td>titl oper  open reduct intern fixat orif irrig...</td>\n",
       "      <td>0</td>\n",
       "    </tr>\n",
       "    <tr>\n",
       "      <th>2102</th>\n",
       "      <td>Orthopedic</td>\n",
       "      <td>xyz c  evergreen place suit  east orang nj</td>\n",
       "      <td>1</td>\n",
       "    </tr>\n",
       "    <tr>\n",
       "      <th>2103</th>\n",
       "      <td>Orthopedic</td>\n",
       "      <td>preoper diagnosi left distal radiu fractur met...</td>\n",
       "      <td>1</td>\n",
       "    </tr>\n",
       "    <tr>\n",
       "      <th>2104</th>\n",
       "      <td>Orthopedic</td>\n",
       "      <td>preoper diagnosi left tibial tubercl avuls fra...</td>\n",
       "      <td>0</td>\n",
       "    </tr>\n",
       "  </tbody>\n",
       "</table>\n",
       "<p>100 rows × 3 columns</p>\n",
       "</div>"
      ],
      "text/plain": [
       "               medical_specialty  \\\n",
       "3     Cardiovascular / Pulmonary   \n",
       "4     Cardiovascular / Pulmonary   \n",
       "7     Cardiovascular / Pulmonary   \n",
       "9     Cardiovascular / Pulmonary   \n",
       "11    Cardiovascular / Pulmonary   \n",
       "...                          ...   \n",
       "2100                  Orthopedic   \n",
       "2101                  Orthopedic   \n",
       "2102                  Orthopedic   \n",
       "2103                  Orthopedic   \n",
       "2104                  Orthopedic   \n",
       "\n",
       "                                           stem_no_stop  kmeans_cluster  \n",
       "3      mode  left atrial enlarg left atrial diamet  ...               1  \n",
       "4      left ventricular caviti size wall thick appea...               1  \n",
       "7      echocardiogram multipl view heart great vesse...               1  \n",
       "9     descript  normal cardiac chamber size  normal ...               1  \n",
       "11     studi  mild aortic stenosi wide calcifi minim...               1  \n",
       "...                                                 ...             ...  \n",
       "2100  preoper diagnos open displac infect left atrop...               0  \n",
       "2101  titl oper  open reduct intern fixat orif irrig...               0  \n",
       "2102        xyz c  evergreen place suit  east orang nj                1  \n",
       "2103  preoper diagnosi left distal radiu fractur met...               1  \n",
       "2104  preoper diagnosi left tibial tubercl avuls fra...               0  \n",
       "\n",
       "[100 rows x 3 columns]"
      ]
     },
     "execution_count": 39,
     "metadata": {},
     "output_type": "execute_result"
    }
   ],
   "source": [
    "data_subset['kmeans_cluster'] = km.labels_\n",
    "data_subset.head(100)"
   ]
  },
  {
   "cell_type": "code",
   "execution_count": 40,
   "id": "65982d81",
   "metadata": {
    "scrolled": false
   },
   "outputs": [
    {
     "name": "stderr",
     "output_type": "stream",
     "text": [
      "/opt/anaconda3/lib/python3.8/site-packages/sklearn/manifold/_t_sne.py:795: FutureWarning: The default initialization in TSNE will change from 'random' to 'pca' in 1.2.\n",
      "  warnings.warn(\n",
      "/opt/anaconda3/lib/python3.8/site-packages/sklearn/manifold/_t_sne.py:805: FutureWarning: The default learning rate in TSNE will change from 200.0 to 'auto' in 1.2.\n",
      "  warnings.warn(\n",
      "*c* argument looks like a single numeric RGB or RGBA sequence, which should be avoided as value-mapping will have precedence in case its length matches with *x* & *y*.  Please use the *color* keyword-argument or provide a 2-D array with a single row if you intend to specify the same RGB or RGBA value for all points.\n",
      "*c* argument looks like a single numeric RGB or RGBA sequence, which should be avoided as value-mapping will have precedence in case its length matches with *x* & *y*.  Please use the *color* keyword-argument or provide a 2-D array with a single row if you intend to specify the same RGB or RGBA value for all points.\n",
      "*c* argument looks like a single numeric RGB or RGBA sequence, which should be avoided as value-mapping will have precedence in case its length matches with *x* & *y*.  Please use the *color* keyword-argument or provide a 2-D array with a single row if you intend to specify the same RGB or RGBA value for all points.\n"
     ]
    },
    {
     "data": {
      "image/png": "[encoded data removed]",
      "text/plain": [
       "<Figure size 576x396 with 1 Axes>"
      ]
     },
     "metadata": {},
     "output_type": "display_data"
    },
    {
     "data": {
      "text/plain": [
       "<AxesSubplot:title={'center':'TSNE Projection of 949 Documents'}>"
      ]
     },
     "execution_count": 40,
     "metadata": {},
     "output_type": "execute_result"
    }
   ],
   "source": [
    "from yellowbrick.text import TSNEVisualizer\n",
    "\n",
    "tsne = TSNEVisualizer()\n",
    "tsne.fit(cv_matrix, km.labels_)\n",
    "tsne.poof()"
   ]
  },
  {
   "cell_type": "markdown",
   "id": "006cf55f",
   "metadata": {},
   "source": [
    "- The TSNE projection above demonstrates that the majority of the clustering has been centered around the cardiovascular/pulmonary medical specialty, followed by orthopedic, and then neurology."
   ]
  }
 ],
 "metadata": {
  "kernelspec": {
   "display_name": "Python 3",
   "language": "python",
   "name": "python3"
  },
  "language_info": {
   "codemirror_mode": {
    "name": "ipython",
    "version": 3
   },
   "file_extension": ".py",
   "mimetype": "text/x-python",
   "name": "python",
   "nbconvert_exporter": "python",
   "pygments_lexer": "ipython3",
   "version": "3.8.8"
  }
 },
 "nbformat": 4,
 "nbformat_minor": 5
}
